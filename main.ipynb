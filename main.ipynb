{
 "cells": [
  {
   "cell_type": "code",
   "execution_count": 1,
   "id": "7491c1d4-d6ef-4a72-88a0-8af15a7375cd",
   "metadata": {},
   "outputs": [],
   "source": [
    "import matplotlib.pyplot as plt\n",
    "%matplotlib inline\n",
    "import numpy as np\n",
    "import pandas as pd\n",
    "from sklearn.model_selection import train_test_split"
   ]
  },
  {
   "cell_type": "code",
   "execution_count": 2,
   "id": "2b605630-c6b9-41c9-af1a-e2832e42b88d",
   "metadata": {},
   "outputs": [],
   "source": [
    "currentMVPs = pd.read_csv('Data/currentMVPRace.csv')\n",
    "pastMVPS = pd.read_csv('Data/pastMVPS.csv')"
   ]
  },
  {
   "cell_type": "code",
   "execution_count": 3,
   "id": "f80e726a-63ed-44d5-af3d-d2c0345aa7ab",
   "metadata": {},
   "outputs": [],
   "source": [
    "train, test = train_test_split(pastMVPS, test_size=0.2, random_state=5)\n",
    "\n",
    "Xtrain = train[['G', 'Team Wins', 'Overall Seed', 'MP', 'PTS', 'TRB', 'AST', 'STL', 'BLK', 'FG%', '3P%', 'FT%', 'WS', 'WS/48', 'VORP', 'BPM']]\n",
    "Ytrain = train[['Share']]\n",
    "Xtest = test[['G', 'Team Wins', 'Overall Seed', 'MP', 'PTS', 'TRB', 'AST', 'STL', 'BLK', 'FG%', '3P%', 'FT%', 'WS', 'WS/48', 'VORP', 'BPM']]\n",
    "Ytest = test[['Share']]"
   ]
  },
  {
   "cell_type": "code",
   "execution_count": null,
   "id": "9d5f4247-26ae-4dc1-8fc5-14e8864cb1a2",
   "metadata": {},
   "outputs": [],
   "source": []
  }
 ],
 "metadata": {
  "kernelspec": {
   "display_name": "Python 3",
   "language": "python",
   "name": "python3"
  },
  "language_info": {
   "codemirror_mode": {
    "name": "ipython",
    "version": 3
   },
   "file_extension": ".py",
   "mimetype": "text/x-python",
   "name": "python",
   "nbconvert_exporter": "python",
   "pygments_lexer": "ipython3",
   "version": "3.8.8"
  }
 },
 "nbformat": 4,
 "nbformat_minor": 5
}
