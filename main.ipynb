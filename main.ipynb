{
 "cells": [
  {
   "cell_type": "markdown",
   "id": "1c52dd1d-7227-4cbc-952d-89bad249f05e",
   "metadata": {},
   "source": [
    "**currentMVPS.csv last updated at the end of the 2021-2022 NBA Regular Season**"
   ]
  },
  {
   "cell_type": "markdown",
   "id": "b5afdef9-765b-437e-a332-c57d447a97ab",
   "metadata": {},
   "source": [
    "Imports"
   ]
  },
  {
   "cell_type": "code",
   "execution_count": 1,
   "id": "7491c1d4-d6ef-4a72-88a0-8af15a7375cd",
   "metadata": {},
   "outputs": [],
   "source": [
    "import matplotlib.pyplot as plt\n",
    "%matplotlib inline\n",
    "import numpy as np\n",
    "import pandas as pd\n",
    "from sklearn import neighbors\n",
    "from sklearn.ensemble import RandomForestRegressor\n",
    "from sklearn.model_selection import train_test_split\n",
    "from sklearn.neural_network import MLPRegressor\n",
    "from xgboost import XGBRegressor"
   ]
  },
  {
   "cell_type": "markdown",
   "id": "b197deb6-88d4-4b1b-a014-903de8f4fa76",
   "metadata": {},
   "source": [
    "Read currentMVPRace.csv and pastMVPS.csv"
   ]
  },
  {
   "cell_type": "code",
   "execution_count": 2,
   "id": "2b605630-c6b9-41c9-af1a-e2832e42b88d",
   "metadata": {},
   "outputs": [],
   "source": [
    "currentMVPs = pd.read_csv('Data/currentMVPRace.csv')\n",
    "pastMVPS = pd.read_csv('Data/pastMVPS.csv')"
   ]
  },
  {
   "cell_type": "markdown",
   "id": "5deeedd3-6f32-4a44-bc62-ec1c91625b01",
   "metadata": {},
   "source": [
    "Split the data into a random train and test set (80% => training data, 20% => testing data)"
   ]
  },
  {
   "cell_type": "code",
   "execution_count": 3,
   "id": "f80e726a-63ed-44d5-af3d-d2c0345aa7ab",
   "metadata": {},
   "outputs": [],
   "source": [
    "train, test = train_test_split(pastMVPS, test_size=0.2, random_state=5)\n",
    "\n",
    "Xtrain = train[['G', 'Team Wins', 'Overall Seed', 'MP', 'PTS', 'TRB', 'AST', 'STL', 'BLK', 'FG%', '3P%', 'FT%', 'WS', 'WS/48', 'VORP', 'BPM']]\n",
    "Ytrain = train[['Share']]\n",
    "Xtest = test[['G', 'Team Wins', 'Overall Seed', 'MP', 'PTS', 'TRB', 'AST', 'STL', 'BLK', 'FG%', '3P%', 'FT%', 'WS', 'WS/48', 'VORP', 'BPM']]\n",
    "Ytest = test[['Share']]"
   ]
  },
  {
   "cell_type": "markdown",
   "id": "5a32b8a3-52ff-48cf-97d4-a1109bcb5253",
   "metadata": {},
   "source": [
    "Perform Random Forest Regression to figure out feature importance"
   ]
  },
  {
   "cell_type": "code",
   "execution_count": 4,
   "id": "b464d9b6-55a5-406e-95c6-fd795407f773",
   "metadata": {},
   "outputs": [],
   "source": [
    "RF = RandomForestRegressor(random_state = 100, criterion = 'mse')"
   ]
  },
  {
   "cell_type": "code",
   "execution_count": 5,
   "id": "f5847a98-2a7a-4c47-903f-67aca2d98b96",
   "metadata": {},
   "outputs": [],
   "source": [
    "RF.fit(Xtrain, Ytrain.values.ravel())\n",
    "prediction = RF.predict(Xtest)\n",
    "sorted = RF.feature_importances_.argsort()"
   ]
  },
  {
   "cell_type": "markdown",
   "id": "508a5ac3-eaa4-43cb-af81-c36adc1a987f",
   "metadata": {},
   "source": [
    "Plot feature importance"
   ]
  },
  {
   "cell_type": "code",
   "execution_count": 6,
   "id": "37341863-ee17-40af-8fb4-1de6f27eb82b",
   "metadata": {},
   "outputs": [
    {
     "data": {
      "text/plain": [
       "Text(0.5, 0.98, 'Feature Importance')"
      ]
     },
     "execution_count": 6,
     "metadata": {},
     "output_type": "execute_result"
    },
    {
     "data": {
      "image/png": "[encoded data removed]",
      "text/plain": [
       "<Figure size 432x288 with 1 Axes>"
      ]
     },
     "metadata": {
      "needs_background": "light"
     },
     "output_type": "display_data"
    }
   ],
   "source": [
    "plt.bar(Xtrain.columns[sorted], RF.feature_importances_[sorted], color='lightblue')\n",
    "plt.xticks(rotation=90)\n",
    "plt.suptitle(\"Feature Importance\", weight = 'bold')"
   ]
  },
  {
   "cell_type": "markdown",
   "id": "5f7661b5-b733-4d7c-b365-a038ccb8eb70",
   "metadata": {},
   "source": [
    "**Remove:**\n",
    "- G => Weakest feature\n",
    "- MP => Practically not important\n",
    "- FT% => There have been many MVP winners with terrible FT%\n",
    "- Team Wins => Overall Seed is a better feature\n",
    "- BPM => VORP is a better feature\n",
    "- WS/48 => WS is a better feature"
   ]
  },
  {
   "cell_type": "markdown",
   "id": "ad8e0c42-2c6f-4ed5-a958-7bcbf4409341",
   "metadata": {},
   "source": [
    "Split the important features into a random train and test set (80% => training data, 20% => testing data)"
   ]
  },
  {
   "cell_type": "code",
   "execution_count": 7,
   "id": "39fbe81b-b90f-44d6-b7c4-2178834e83a7",
   "metadata": {},
   "outputs": [],
   "source": [
    "train, test = train_test_split(pastMVPS, test_size=0.2, random_state=5)\n",
    "\n",
    "Xtrain = train[['Overall Seed', 'PTS', 'TRB', 'AST', 'STL', 'BLK', 'FG%', '3P%', 'WS', 'VORP']]\n",
    "Ytrain = train[['Share']]\n",
    "Xtest = test[['Overall Seed', 'PTS', 'TRB', 'AST', 'STL', 'BLK', 'FG%', '3P%', 'WS', 'VORP']]\n",
    "Ytest = test[['Share']]"
   ]
  },
  {
   "cell_type": "markdown",
   "id": "4838854e-e311-4bc4-bd2b-0e5b3c631ecb",
   "metadata": {},
   "source": [
    "Select important features from the current MVP race"
   ]
  },
  {
   "cell_type": "code",
   "execution_count": 8,
   "id": "a2850e56-b298-4943-a689-996e0240ab38",
   "metadata": {},
   "outputs": [
    {
     "data": {
      "text/html": [
       "<div>\n",
       "<style scoped>\n",
       "    .dataframe tbody tr th:only-of-type {\n",
       "        vertical-align: middle;\n",
       "    }\n",
       "\n",
       "    .dataframe tbody tr th {\n",
       "        vertical-align: top;\n",
       "    }\n",
       "\n",
       "    .dataframe thead th {\n",
       "        text-align: right;\n",
       "    }\n",
       "</style>\n",
       "<table border=\"1\" class=\"dataframe\">\n",
       "  <thead>\n",
       "    <tr style=\"text-align: right;\">\n",
       "      <th></th>\n",
       "      <th>Rank</th>\n",
       "      <th>Player</th>\n",
       "      <th>Age</th>\n",
       "      <th>Tm</th>\n",
       "      <th>G</th>\n",
       "      <th>Team Wins</th>\n",
       "      <th>Overall Seed</th>\n",
       "      <th>MP</th>\n",
       "      <th>PTS</th>\n",
       "      <th>TRB</th>\n",
       "      <th>AST</th>\n",
       "      <th>STL</th>\n",
       "      <th>BLK</th>\n",
       "      <th>FG%</th>\n",
       "      <th>3P%</th>\n",
       "      <th>FT%</th>\n",
       "      <th>WS</th>\n",
       "      <th>WS/48</th>\n",
       "      <th>VORP</th>\n",
       "      <th>BPM</th>\n",
       "    </tr>\n",
       "  </thead>\n",
       "  <tbody>\n",
       "    <tr>\n",
       "      <th>0</th>\n",
       "      <td>1</td>\n",
       "      <td>Nikola Jokić</td>\n",
       "      <td>27</td>\n",
       "      <td>DEN</td>\n",
       "      <td>74</td>\n",
       "      <td>48</td>\n",
       "      <td>11</td>\n",
       "      <td>33.5</td>\n",
       "      <td>27.1</td>\n",
       "      <td>13.8</td>\n",
       "      <td>7.9</td>\n",
       "      <td>1.5</td>\n",
       "      <td>0.9</td>\n",
       "      <td>0.583</td>\n",
       "      <td>0.337</td>\n",
       "      <td>0.810</td>\n",
       "      <td>15.2</td>\n",
       "      <td>0.296</td>\n",
       "      <td>9.8</td>\n",
       "      <td>13.7</td>\n",
       "    </tr>\n",
       "    <tr>\n",
       "      <th>1</th>\n",
       "      <td>2</td>\n",
       "      <td>Giannis Antetokounmpo</td>\n",
       "      <td>27</td>\n",
       "      <td>MIL</td>\n",
       "      <td>67</td>\n",
       "      <td>51</td>\n",
       "      <td>7</td>\n",
       "      <td>32.9</td>\n",
       "      <td>29.9</td>\n",
       "      <td>11.6</td>\n",
       "      <td>5.8</td>\n",
       "      <td>1.1</td>\n",
       "      <td>1.4</td>\n",
       "      <td>0.553</td>\n",
       "      <td>0.293</td>\n",
       "      <td>0.722</td>\n",
       "      <td>12.9</td>\n",
       "      <td>0.281</td>\n",
       "      <td>7.4</td>\n",
       "      <td>11.2</td>\n",
       "    </tr>\n",
       "    <tr>\n",
       "      <th>2</th>\n",
       "      <td>3</td>\n",
       "      <td>Joel Embiid</td>\n",
       "      <td>28</td>\n",
       "      <td>PHI</td>\n",
       "      <td>68</td>\n",
       "      <td>51</td>\n",
       "      <td>8</td>\n",
       "      <td>33.8</td>\n",
       "      <td>30.6</td>\n",
       "      <td>11.7</td>\n",
       "      <td>4.2</td>\n",
       "      <td>1.1</td>\n",
       "      <td>1.5</td>\n",
       "      <td>0.499</td>\n",
       "      <td>0.371</td>\n",
       "      <td>0.814</td>\n",
       "      <td>12.0</td>\n",
       "      <td>0.252</td>\n",
       "      <td>6.5</td>\n",
       "      <td>9.2</td>\n",
       "    </tr>\n",
       "    <tr>\n",
       "      <th>3</th>\n",
       "      <td>4</td>\n",
       "      <td>Chris Paul</td>\n",
       "      <td>36</td>\n",
       "      <td>PHO</td>\n",
       "      <td>65</td>\n",
       "      <td>64</td>\n",
       "      <td>1</td>\n",
       "      <td>32.9</td>\n",
       "      <td>14.7</td>\n",
       "      <td>4.4</td>\n",
       "      <td>10.8</td>\n",
       "      <td>1.9</td>\n",
       "      <td>0.3</td>\n",
       "      <td>0.493</td>\n",
       "      <td>0.317</td>\n",
       "      <td>0.837</td>\n",
       "      <td>9.4</td>\n",
       "      <td>0.210</td>\n",
       "      <td>4.0</td>\n",
       "      <td>5.4</td>\n",
       "    </tr>\n",
       "    <tr>\n",
       "      <th>4</th>\n",
       "      <td>5</td>\n",
       "      <td>Luka Dončić</td>\n",
       "      <td>23</td>\n",
       "      <td>DAL</td>\n",
       "      <td>65</td>\n",
       "      <td>52</td>\n",
       "      <td>5</td>\n",
       "      <td>35.4</td>\n",
       "      <td>28.4</td>\n",
       "      <td>9.1</td>\n",
       "      <td>8.7</td>\n",
       "      <td>1.2</td>\n",
       "      <td>0.6</td>\n",
       "      <td>0.457</td>\n",
       "      <td>0.353</td>\n",
       "      <td>0.744</td>\n",
       "      <td>7.6</td>\n",
       "      <td>0.159</td>\n",
       "      <td>5.9</td>\n",
       "      <td>8.2</td>\n",
       "    </tr>\n",
       "    <tr>\n",
       "      <th>5</th>\n",
       "      <td>6</td>\n",
       "      <td>James Harden</td>\n",
       "      <td>32</td>\n",
       "      <td>PHI</td>\n",
       "      <td>65</td>\n",
       "      <td>51</td>\n",
       "      <td>8</td>\n",
       "      <td>37.2</td>\n",
       "      <td>22.0</td>\n",
       "      <td>7.7</td>\n",
       "      <td>10.3</td>\n",
       "      <td>1.3</td>\n",
       "      <td>0.6</td>\n",
       "      <td>0.410</td>\n",
       "      <td>0.330</td>\n",
       "      <td>0.877</td>\n",
       "      <td>7.6</td>\n",
       "      <td>0.152</td>\n",
       "      <td>3.7</td>\n",
       "      <td>4.1</td>\n",
       "    </tr>\n",
       "    <tr>\n",
       "      <th>6</th>\n",
       "      <td>7</td>\n",
       "      <td>Devin Booker</td>\n",
       "      <td>25</td>\n",
       "      <td>PHO</td>\n",
       "      <td>68</td>\n",
       "      <td>64</td>\n",
       "      <td>1</td>\n",
       "      <td>34.5</td>\n",
       "      <td>26.8</td>\n",
       "      <td>5.0</td>\n",
       "      <td>4.8</td>\n",
       "      <td>1.1</td>\n",
       "      <td>0.4</td>\n",
       "      <td>0.466</td>\n",
       "      <td>0.383</td>\n",
       "      <td>0.868</td>\n",
       "      <td>7.6</td>\n",
       "      <td>0.156</td>\n",
       "      <td>3.6</td>\n",
       "      <td>4.1</td>\n",
       "    </tr>\n",
       "    <tr>\n",
       "      <th>7</th>\n",
       "      <td>8</td>\n",
       "      <td>Rudy Gobert</td>\n",
       "      <td>29</td>\n",
       "      <td>UTA</td>\n",
       "      <td>66</td>\n",
       "      <td>49</td>\n",
       "      <td>9</td>\n",
       "      <td>32.1</td>\n",
       "      <td>15.6</td>\n",
       "      <td>14.7</td>\n",
       "      <td>1.1</td>\n",
       "      <td>0.7</td>\n",
       "      <td>2.1</td>\n",
       "      <td>0.713</td>\n",
       "      <td>0.000</td>\n",
       "      <td>0.690</td>\n",
       "      <td>11.7</td>\n",
       "      <td>0.264</td>\n",
       "      <td>3.6</td>\n",
       "      <td>4.6</td>\n",
       "    </tr>\n",
       "    <tr>\n",
       "      <th>8</th>\n",
       "      <td>9</td>\n",
       "      <td>Trae Young</td>\n",
       "      <td>23</td>\n",
       "      <td>ATL</td>\n",
       "      <td>76</td>\n",
       "      <td>43</td>\n",
       "      <td>16</td>\n",
       "      <td>34.9</td>\n",
       "      <td>28.4</td>\n",
       "      <td>3.7</td>\n",
       "      <td>9.7</td>\n",
       "      <td>0.9</td>\n",
       "      <td>0.1</td>\n",
       "      <td>0.460</td>\n",
       "      <td>0.382</td>\n",
       "      <td>0.904</td>\n",
       "      <td>10.0</td>\n",
       "      <td>0.181</td>\n",
       "      <td>4.8</td>\n",
       "      <td>5.2</td>\n",
       "    </tr>\n",
       "    <tr>\n",
       "      <th>9</th>\n",
       "      <td>10</td>\n",
       "      <td>Jayson Tatum</td>\n",
       "      <td>24</td>\n",
       "      <td>BOS</td>\n",
       "      <td>76</td>\n",
       "      <td>51</td>\n",
       "      <td>6</td>\n",
       "      <td>35.9</td>\n",
       "      <td>26.9</td>\n",
       "      <td>8.0</td>\n",
       "      <td>4.4</td>\n",
       "      <td>1.0</td>\n",
       "      <td>0.6</td>\n",
       "      <td>0.453</td>\n",
       "      <td>0.353</td>\n",
       "      <td>0.853</td>\n",
       "      <td>9.6</td>\n",
       "      <td>0.169</td>\n",
       "      <td>4.8</td>\n",
       "      <td>4.9</td>\n",
       "    </tr>\n",
       "  </tbody>\n",
       "</table>\n",
       "</div>"
      ],
      "text/plain": [
       "   Rank                 Player  Age   Tm   G  Team Wins  Overall Seed    MP  \\\n",
       "0     1           Nikola Jokić   27  DEN  74         48            11  33.5   \n",
       "1     2  Giannis Antetokounmpo   27  MIL  67         51             7  32.9   \n",
       "2     3            Joel Embiid   28  PHI  68         51             8  33.8   \n",
       "3     4             Chris Paul   36  PHO  65         64             1  32.9   \n",
       "4     5            Luka Dončić   23  DAL  65         52             5  35.4   \n",
       "5     6           James Harden   32  PHI  65         51             8  37.2   \n",
       "6     7           Devin Booker   25  PHO  68         64             1  34.5   \n",
       "7     8            Rudy Gobert   29  UTA  66         49             9  32.1   \n",
       "8     9             Trae Young   23  ATL  76         43            16  34.9   \n",
       "9    10           Jayson Tatum   24  BOS  76         51             6  35.9   \n",
       "\n",
       "    PTS   TRB   AST  STL  BLK    FG%    3P%    FT%    WS  WS/48  VORP   BPM  \n",
       "0  27.1  13.8   7.9  1.5  0.9  0.583  0.337  0.810  15.2  0.296   9.8  13.7  \n",
       "1  29.9  11.6   5.8  1.1  1.4  0.553  0.293  0.722  12.9  0.281   7.4  11.2  \n",
       "2  30.6  11.7   4.2  1.1  1.5  0.499  0.371  0.814  12.0  0.252   6.5   9.2  \n",
       "3  14.7   4.4  10.8  1.9  0.3  0.493  0.317  0.837   9.4  0.210   4.0   5.4  \n",
       "4  28.4   9.1   8.7  1.2  0.6  0.457  0.353  0.744   7.6  0.159   5.9   8.2  \n",
       "5  22.0   7.7  10.3  1.3  0.6  0.410  0.330  0.877   7.6  0.152   3.7   4.1  \n",
       "6  26.8   5.0   4.8  1.1  0.4  0.466  0.383  0.868   7.6  0.156   3.6   4.1  \n",
       "7  15.6  14.7   1.1  0.7  2.1  0.713  0.000  0.690  11.7  0.264   3.6   4.6  \n",
       "8  28.4   3.7   9.7  0.9  0.1  0.460  0.382  0.904  10.0  0.181   4.8   5.2  \n",
       "9  26.9   8.0   4.4  1.0  0.6  0.453  0.353  0.853   9.6  0.169   4.8   4.9  "
      ]
     },
     "execution_count": 8,
     "metadata": {},
     "output_type": "execute_result"
    }
   ],
   "source": [
    "currentMVPs.head(10)"
   ]
  },
  {
   "cell_type": "code",
   "execution_count": 9,
   "id": "bec6c8f9-0feb-42ed-bf1d-339710e93133",
   "metadata": {},
   "outputs": [],
   "source": [
    "currentMVPNames = currentMVPs.iloc[:,1]\n",
    "currentMVPs = currentMVPs[['Overall Seed', 'PTS', 'TRB', 'AST', 'STL', 'BLK', 'FG%', '3P%', 'WS', 'VORP']]"
   ]
  },
  {
   "cell_type": "markdown",
   "id": "fcb3407c-b67b-4ada-b7ca-c09904090a70",
   "metadata": {},
   "source": [
    "### KNN"
   ]
  },
  {
   "cell_type": "code",
   "execution_count": 10,
   "id": "5b88db77-65b2-490b-b2c4-10ae3842f663",
   "metadata": {},
   "outputs": [],
   "source": [
    "KNN = neighbors.KNeighborsRegressor(\n",
    "    n_neighbors=9,\n",
    "    weights='uniform'\n",
    ")"
   ]
  },
  {
   "cell_type": "code",
   "execution_count": 11,
   "id": "d5c1bd18-a329-47d5-a34e-c16a9094790f",
   "metadata": {},
   "outputs": [
    {
     "data": {
      "text/plain": [
       "KNeighborsRegressor(n_neighbors=9)"
      ]
     },
     "execution_count": 11,
     "metadata": {},
     "output_type": "execute_result"
    }
   ],
   "source": [
    "KNN.fit(Xtrain, Ytrain.values.ravel())"
   ]
  },
  {
   "cell_type": "code",
   "execution_count": 12,
   "id": "5cd75c67-e7ff-499c-938d-118d9090c33e",
   "metadata": {},
   "outputs": [
    {
     "name": "stdout",
     "output_type": "stream",
     "text": [
      "Nikola Jokić 0.30844444444444447\n",
      "Giannis Antetokounmpo 0.18555555555555556\n",
      "Joel Embiid 0.23277777777777775\n",
      "Chris Paul 0.18977777777777777\n",
      "Luka Dončić 0.2641111111111111\n",
      "James Harden 0.01577777777777778\n",
      "Devin Booker 0.15588888888888885\n",
      "Rudy Gobert 0.0641111111111111\n",
      "Trae Young 0.0788888888888889\n",
      "Jayson Tatum 0.155\n"
     ]
    }
   ],
   "source": [
    "KNNCurrentMVPsPrediction = KNN.predict(currentMVPs).tolist()\n",
    "\n",
    "for (i, j) in zip(currentMVPNames, KNNCurrentMVPsPrediction):\n",
    "    print(i, j)"
   ]
  },
  {
   "cell_type": "code",
   "execution_count": 13,
   "id": "cc0cea1f-7bcc-44c1-bb6d-f1fb24c3b4c4",
   "metadata": {},
   "outputs": [
    {
     "data": {
      "text/plain": [
       "Text(0.5, 0.98, 'KNN Prediction MVP Share')"
      ]
     },
     "execution_count": 13,
     "metadata": {},
     "output_type": "execute_result"
    },
    {
     "data": {
      "image/png": "[encoded data removed]",
      "text/plain": [
       "<Figure size 432x288 with 1 Axes>"
      ]
     },
     "metadata": {
      "needs_background": "light"
     },
     "output_type": "display_data"
    }
   ],
   "source": [
    "plt.bar(currentMVPNames, KNNCurrentMVPsPrediction, color='lightblue')\n",
    "plt.xticks(rotation=90)\n",
    "plt.suptitle(\"KNN Prediction MVP Share\", weight = 'bold')"
   ]
  },
  {
   "cell_type": "markdown",
   "id": "91816885-3a95-42cc-87b8-c5d3b0accd92",
   "metadata": {
    "tags": []
   },
   "source": [
    "### MLP"
   ]
  },
  {
   "cell_type": "code",
   "execution_count": 14,
   "id": "6dda12d3-675a-4fea-9ef2-8b367ebd5578",
   "metadata": {},
   "outputs": [],
   "source": [
    "MLP = MLPRegressor(\n",
    "    solver='adam',\n",
    "    activation='relu',\n",
    "    learning_rate ='invscaling',\n",
    "    hidden_layer_sizes=100,\n",
    "    max_iter=10000,\n",
    "    random_state=5\n",
    ")"
   ]
  },
  {
   "cell_type": "code",
   "execution_count": 15,
   "id": "be85a9fd-b564-4af6-9e3b-59c17662b423",
   "metadata": {},
   "outputs": [
    {
     "data": {
      "text/plain": [
       "MLPRegressor(hidden_layer_sizes=100, learning_rate='invscaling', max_iter=10000,\n",
       "             random_state=5)"
      ]
     },
     "execution_count": 15,
     "metadata": {},
     "output_type": "execute_result"
    }
   ],
   "source": [
    "MLP.fit(Xtrain, Ytrain.values.ravel())"
   ]
  },
  {
   "cell_type": "code",
   "execution_count": 16,
   "id": "ea97e0cd-6527-4fdf-a0a7-566af58773a3",
   "metadata": {},
   "outputs": [
    {
     "name": "stdout",
     "output_type": "stream",
     "text": [
      "Nikola Jokić 0.26052043200759445\n",
      "Giannis Antetokounmpo 0.2949378356679233\n",
      "Joel Embiid 0.2399984532980426\n",
      "Chris Paul 0.14880981412946004\n",
      "Luka Dončić 0.2534632756213082\n",
      "James Harden 0.008942125105884768\n",
      "Devin Booker 0.5734625851281092\n",
      "Rudy Gobert 0.12913537799968322\n",
      "Trae Young -0.14663641108758818\n",
      "Jayson Tatum 0.15524608727110945\n"
     ]
    }
   ],
   "source": [
    "MLPCurrentMVPsPrediction = MLP.predict(currentMVPs).tolist()\n",
    "\n",
    "for (i, j) in zip(currentMVPNames, MLPCurrentMVPsPrediction):\n",
    "    print(i, j)"
   ]
  },
  {
   "cell_type": "code",
   "execution_count": 17,
   "id": "e877f336-73ba-412a-ac63-2445ce41ace6",
   "metadata": {},
   "outputs": [
    {
     "data": {
      "text/plain": [
       "Text(0.5, 0.98, 'MLP Prediction MVP Share')"
      ]
     },
     "execution_count": 17,
     "metadata": {},
     "output_type": "execute_result"
    },
    {
     "data": {
      "image/png": "[encoded data removed]",
      "text/plain": [
       "<Figure size 432x288 with 1 Axes>"
      ]
     },
     "metadata": {
      "needs_background": "light"
     },
     "output_type": "display_data"
    }
   ],
   "source": [
    "plt.bar(currentMVPNames, MLPCurrentMVPsPrediction, color='lightblue')\n",
    "plt.xticks(rotation=90)\n",
    "plt.suptitle(\"MLP Prediction MVP Share\", weight = 'bold')"
   ]
  },
  {
   "cell_type": "markdown",
   "id": "1e8c3c2b-8b3d-4679-b529-2441715a5c8c",
   "metadata": {},
   "source": [
    "### RF"
   ]
  },
  {
   "cell_type": "code",
   "execution_count": 18,
   "id": "48ba300a-9055-4120-a806-eb2501e3be7e",
   "metadata": {},
   "outputs": [],
   "source": [
    "RF = RandomForestRegressor(random_state = 100, criterion = 'mse')"
   ]
  },
  {
   "cell_type": "code",
   "execution_count": 19,
   "id": "9411f239-2ea9-4604-800b-92033a6914d0",
   "metadata": {},
   "outputs": [
    {
     "data": {
      "text/plain": [
       "RandomForestRegressor(random_state=100)"
      ]
     },
     "execution_count": 19,
     "metadata": {},
     "output_type": "execute_result"
    }
   ],
   "source": [
    "RF.fit(Xtrain, Ytrain.values.ravel())"
   ]
  },
  {
   "cell_type": "code",
   "execution_count": 20,
   "id": "7317261d-3443-4caf-8035-e1c84b0d7fb5",
   "metadata": {},
   "outputs": [
    {
     "name": "stdout",
     "output_type": "stream",
     "text": [
      "Nikola Jokić 0.37671000000000016\n",
      "Giannis Antetokounmpo 0.27767\n",
      "Joel Embiid 0.28801999999999983\n",
      "Chris Paul 0.12914999999999993\n",
      "Luka Dončić 0.22891000000000017\n",
      "James Harden 0.013759999999999993\n",
      "Devin Booker 0.14204\n",
      "Rudy Gobert 0.13731000000000002\n",
      "Trae Young 0.19044999999999998\n",
      "Jayson Tatum 0.17211000000000007\n"
     ]
    }
   ],
   "source": [
    "RFCurrentMVPsPrediction = RF.predict(currentMVPs).tolist()\n",
    "\n",
    "for (i, j) in zip(currentMVPNames, RFCurrentMVPsPrediction):\n",
    "    print(i, j)"
   ]
  },
  {
   "cell_type": "code",
   "execution_count": 21,
   "id": "3104da20-3df5-44bf-808d-7d724db4748f",
   "metadata": {},
   "outputs": [
    {
     "data": {
      "text/plain": [
       "Text(0.5, 0.98, 'RF Prediction MVP Share')"
      ]
     },
     "execution_count": 21,
     "metadata": {},
     "output_type": "execute_result"
    },
    {
     "data": {
      "image/png": "[encoded data removed]",
      "text/plain": [
       "<Figure size 432x288 with 1 Axes>"
      ]
     },
     "metadata": {
      "needs_background": "light"
     },
     "output_type": "display_data"
    }
   ],
   "source": [
    "plt.bar(currentMVPNames, RFCurrentMVPsPrediction, color='lightblue')\n",
    "plt.xticks(rotation=90)\n",
    "plt.suptitle(\"RF Prediction MVP Share\", weight = 'bold')"
   ]
  },
  {
   "cell_type": "markdown",
   "id": "30819fb2-b34c-4e93-836d-1b8da13ea73a",
   "metadata": {},
   "source": [
    "### XG Boost Regressor"
   ]
  },
  {
   "cell_type": "code",
   "execution_count": 22,
   "id": "74894c4c-1831-44df-8217-6d60d79eb1b0",
   "metadata": {},
   "outputs": [],
   "source": [
    "XGBR = XGBRegressor(random_state = 100)"
   ]
  },
  {
   "cell_type": "code",
   "execution_count": 23,
   "id": "de374994-1b32-428d-aa35-0a1d17c0bf7b",
   "metadata": {},
   "outputs": [
    {
     "data": {
      "text/plain": [
       "XGBRegressor(base_score=0.5, booster='gbtree', colsample_bylevel=1,\n",
       "             colsample_bynode=1, colsample_bytree=1, enable_categorical=False,\n",
       "             gamma=0, gpu_id=-1, importance_type=None,\n",
       "             interaction_constraints='', learning_rate=0.300000012,\n",
       "             max_delta_step=0, max_depth=6, min_child_weight=1, missing=nan,\n",
       "             monotone_constraints='()', n_estimators=100, n_jobs=8,\n",
       "             num_parallel_tree=1, predictor='auto', random_state=100,\n",
       "             reg_alpha=0, reg_lambda=1, scale_pos_weight=1, subsample=1,\n",
       "             tree_method='exact', validate_parameters=1, verbosity=None)"
      ]
     },
     "execution_count": 23,
     "metadata": {},
     "output_type": "execute_result"
    }
   ],
   "source": [
    "XGBR.fit(Xtrain, Ytrain.values.ravel())"
   ]
  },
  {
   "cell_type": "code",
   "execution_count": 24,
   "id": "4f938757-ee4e-49a4-a237-9c16e8a1a11d",
   "metadata": {},
   "outputs": [
    {
     "name": "stdout",
     "output_type": "stream",
     "text": [
      "Nikola Jokić 0.23714885115623474\n",
      "Giannis Antetokounmpo 0.25997981429100037\n",
      "Joel Embiid 0.4259296953678131\n",
      "Chris Paul 0.09345170110464096\n",
      "Luka Dončić 0.32424041628837585\n",
      "James Harden -0.01915055327117443\n",
      "Devin Booker 0.1662326604127884\n",
      "Rudy Gobert 0.07233820855617523\n",
      "Trae Young 0.06731928884983063\n",
      "Jayson Tatum 0.1626904159784317\n"
     ]
    }
   ],
   "source": [
    "XGBRCurrentMVPsPrediction = XGBR.predict(currentMVPs).tolist()\n",
    "\n",
    "for (i, j) in zip(currentMVPNames, XGBRCurrentMVPsPrediction):\n",
    "    print(i, j)"
   ]
  },
  {
   "cell_type": "code",
   "execution_count": 25,
   "id": "99cd8972-a4a5-47cb-b82d-2e65f127ec14",
   "metadata": {},
   "outputs": [
    {
     "data": {
      "text/plain": [
       "Text(0.5, 0.98, 'XG Boost Regressor Prediction MVP Share')"
      ]
     },
     "execution_count": 25,
     "metadata": {},
     "output_type": "execute_result"
    },
    {
     "data": {
      "image/png": "[encoded data removed]",
      "text/plain": [
       "<Figure size 432x288 with 1 Axes>"
      ]
     },
     "metadata": {
      "needs_background": "light"
     },
     "output_type": "display_data"
    }
   ],
   "source": [
    "plt.bar(currentMVPNames, XGBRCurrentMVPsPrediction, color='lightblue')\n",
    "plt.xticks(rotation=90)\n",
    "plt.suptitle(\"XG Boost Regressor Prediction MVP Share\", weight = 'bold')"
   ]
  },
  {
   "cell_type": "markdown",
   "id": "c4529480-cb66-4e7c-8af3-0243ad784533",
   "metadata": {},
   "source": [
    "### Mean"
   ]
  },
  {
   "cell_type": "code",
   "execution_count": 26,
   "id": "99d21f6a-0022-40c9-9c85-d3a80eb35477",
   "metadata": {},
   "outputs": [
    {
     "name": "stdout",
     "output_type": "stream",
     "text": [
      "Nikola Jokić 0.29570593190206845\n",
      "Giannis Antetokounmpo 0.2545358013786198\n",
      "Joel Embiid 0.29668148161090835\n",
      "Chris Paul 0.14029732325296967\n",
      "Luka Dončić 0.26768120075519886\n",
      "James Harden 0.004832337403122028\n",
      "Devin Booker 0.25940603360744663\n",
      "Rudy Gobert 0.1007236744167424\n",
      "Trae Young 0.04750544166278283\n",
      "Jayson Tatum 0.16126162581238532\n"
     ]
    }
   ],
   "source": [
    "mean = []\n",
    "\n",
    "for (i, j, k, l) in zip(KNNCurrentMVPsPrediction, MLPCurrentMVPsPrediction, RFCurrentMVPsPrediction, XGBRCurrentMVPsPrediction):\n",
    "    mean.append((i + j + k + l) / 4)\n",
    "    \n",
    "for (i, j) in zip(currentMVPNames, mean):\n",
    "    print(i, j)"
   ]
  },
  {
   "cell_type": "code",
   "execution_count": 27,
   "id": "d3a3abcc-6d1f-4256-b284-036e683c417a",
   "metadata": {},
   "outputs": [
    {
     "data": {
      "text/plain": [
       "Text(0.5, 0.98, 'Mean Prediction MVP Share')"
      ]
     },
     "execution_count": 27,
     "metadata": {},
     "output_type": "execute_result"
    },
    {
     "data": {
      "image/png": "[encoded data removed]",
      "text/plain": [
       "<Figure size 432x288 with 1 Axes>"
      ]
     },
     "metadata": {
      "needs_background": "light"
     },
     "output_type": "display_data"
    }
   ],
   "source": [
    "plt.bar(currentMVPNames, mean, color='lightblue')\n",
    "plt.xticks(rotation=90)\n",
    "plt.suptitle(\"Mean Prediction MVP Share\", weight = 'bold')"
   ]
  },
  {
   "cell_type": "code",
   "execution_count": null,
   "id": "3430c8a8-c397-42b1-ab2a-8dbeed78f256",
   "metadata": {},
   "outputs": [],
   "source": []
  }
 ],
 "metadata": {
  "kernelspec": {
   "display_name": "Python 3",
   "language": "python",
   "name": "python3"
  },
  "language_info": {
   "codemirror_mode": {
    "name": "ipython",
    "version": 3
   },
   "file_extension": ".py",
   "mimetype": "text/x-python",
   "name": "python",
   "nbconvert_exporter": "python",
   "pygments_lexer": "ipython3",
   "version": "3.8.8"
  }
 },
 "nbformat": 4,
 "nbformat_minor": 5
}
