{
 "cells": [
  {
   "cell_type": "markdown",
   "id": "1c52dd1d-7227-4cbc-952d-89bad249f05e",
   "metadata": {},
   "source": [
    "Imports"
   ]
  },
  {
   "cell_type": "code",
   "execution_count": 1,
   "id": "7491c1d4-d6ef-4a72-88a0-8af15a7375cd",
   "metadata": {},
   "outputs": [],
   "source": [
    "import matplotlib.pyplot as plt\n",
    "%matplotlib inline\n",
    "import numpy as np\n",
    "import pandas as pd\n",
    "from sklearn.ensemble import RandomForestRegressor\n",
    "from sklearn.model_selection import train_test_split"
   ]
  },
  {
   "cell_type": "markdown",
   "id": "b197deb6-88d4-4b1b-a014-903de8f4fa76",
   "metadata": {},
   "source": [
    "Read currentMVPRace.csv and pastMVPS.csv"
   ]
  },
  {
   "cell_type": "code",
   "execution_count": 2,
   "id": "2b605630-c6b9-41c9-af1a-e2832e42b88d",
   "metadata": {},
   "outputs": [],
   "source": [
    "currentMVPs = pd.read_csv('Data/currentMVPRace.csv')\n",
    "pastMVPS = pd.read_csv('Data/pastMVPS.csv')"
   ]
  },
  {
   "cell_type": "markdown",
   "id": "5deeedd3-6f32-4a44-bc62-ec1c91625b01",
   "metadata": {},
   "source": [
    "Split the data into a random train and test set (80% => training data, 20% => testing data)"
   ]
  },
  {
   "cell_type": "code",
   "execution_count": 3,
   "id": "f80e726a-63ed-44d5-af3d-d2c0345aa7ab",
   "metadata": {},
   "outputs": [],
   "source": [
    "train, test = train_test_split(pastMVPS, test_size=0.2, random_state=5)\n",
    "\n",
    "Xtrain = train[['G', 'Team Wins', 'Overall Seed', 'MP', 'PTS', 'TRB', 'AST', 'STL', 'BLK', 'FG%', '3P%', 'FT%', 'WS', 'WS/48', 'VORP', 'BPM']]\n",
    "Ytrain = train[['Share']]\n",
    "Xtest = test[['G', 'Team Wins', 'Overall Seed', 'MP', 'PTS', 'TRB', 'AST', 'STL', 'BLK', 'FG%', '3P%', 'FT%', 'WS', 'WS/48', 'VORP', 'BPM']]\n",
    "Ytest = test[['Share']]"
   ]
  },
  {
   "cell_type": "markdown",
   "id": "5a32b8a3-52ff-48cf-97d4-a1109bcb5253",
   "metadata": {},
   "source": [
    "Perform Random Forest Regression to figure out feature importance"
   ]
  },
  {
   "cell_type": "code",
   "execution_count": 4,
   "id": "b464d9b6-55a5-406e-95c6-fd795407f773",
   "metadata": {},
   "outputs": [],
   "source": [
    "RFF = RandomForestRegressor(random_state = 100, criterion = 'mse')"
   ]
  },
  {
   "cell_type": "code",
   "execution_count": 5,
   "id": "f5847a98-2a7a-4c47-903f-67aca2d98b96",
   "metadata": {},
   "outputs": [],
   "source": [
    "RFF.fit(Xtrain, Ytrain.values.ravel())\n",
    "prediction = RFF.predict(Xtest)\n",
    "sorted = RFF.feature_importances_.argsort()"
   ]
  },
  {
   "cell_type": "markdown",
   "id": "508a5ac3-eaa4-43cb-af81-c36adc1a987f",
   "metadata": {},
   "source": [
    "Plot feature importance"
   ]
  },
  {
   "cell_type": "code",
   "execution_count": 6,
   "id": "37341863-ee17-40af-8fb4-1de6f27eb82b",
   "metadata": {},
   "outputs": [
    {
     "data": {
      "text/plain": [
       "([0, 1, 2, 3, 4, 5, 6, 7, 8, 9, 10, 11, 12, 13, 14, 15],\n",
       " [Text(0, 0, ''),\n",
       "  Text(0, 0, ''),\n",
       "  Text(0, 0, ''),\n",
       "  Text(0, 0, ''),\n",
       "  Text(0, 0, ''),\n",
       "  Text(0, 0, ''),\n",
       "  Text(0, 0, ''),\n",
       "  Text(0, 0, ''),\n",
       "  Text(0, 0, ''),\n",
       "  Text(0, 0, ''),\n",
       "  Text(0, 0, ''),\n",
       "  Text(0, 0, ''),\n",
       "  Text(0, 0, ''),\n",
       "  Text(0, 0, ''),\n",
       "  Text(0, 0, ''),\n",
       "  Text(0, 0, '')])"
      ]
     },
     "execution_count": 6,
     "metadata": {},
     "output_type": "execute_result"
    },
    {
     "data": {
      "image/png": "[encoded data removed]",
      "text/plain": [
       "<Figure size 432x288 with 1 Axes>"
      ]
     },
     "metadata": {
      "needs_background": "light"
     },
     "output_type": "display_data"
    }
   ],
   "source": [
    "plt.bar(Xtrain.columns[sorted], RFF.feature_importances_[sorted], color='lightblue')\n",
    "plt.xticks(rotation=90)"
   ]
  },
  {
   "cell_type": "markdown",
   "id": "5f7661b5-b733-4d7c-b365-a038ccb8eb70",
   "metadata": {},
   "source": [
    "**Remove:**\n",
    "- G => Weakest feature\n",
    "- MP => Practically not important\n",
    "- FT% => There have been many MVP winners with terrible FT%\n",
    "- Team Wins => Overall Seed is a better feature\n",
    "- BPM => VORP is a better feature\n",
    "- WS/48 => WS is a better feature"
   ]
  },
  {
   "cell_type": "markdown",
   "id": "ad8e0c42-2c6f-4ed5-a958-7bcbf4409341",
   "metadata": {},
   "source": [
    "Split the data into a random train and test set (80% => training data, 20% => testing data)"
   ]
  },
  {
   "cell_type": "code",
   "execution_count": 7,
   "id": "39fbe81b-b90f-44d6-b7c4-2178834e83a7",
   "metadata": {},
   "outputs": [],
   "source": [
    "train, test = train_test_split(pastMVPS, test_size=0.2, random_state=5)\n",
    "\n",
    "Xtrain = train[['Overall Seed', 'PTS', 'TRB', 'AST', 'STL', 'BLK', 'FG%', '3P%', 'WS', 'VORP',]]\n",
    "Ytrain = train[['Share']]\n",
    "Xtest = test[['G', 'Team Wins', 'Overall Seed', 'MP', 'PTS', 'TRB', 'AST', 'STL', 'BLK', 'FG%', '3P%', 'FT%', 'WS', 'WS/48', 'VORP', 'BPM']]\n",
    "Ytest = test[['Share']]"
   ]
  },
  {
   "cell_type": "code",
   "execution_count": null,
   "id": "a02c7bdd-bb68-48ed-9324-e2bcc599c6d8",
   "metadata": {},
   "outputs": [],
   "source": []
  }
 ],
 "metadata": {
  "kernelspec": {
   "display_name": "Python 3",
   "language": "python",
   "name": "python3"
  },
  "language_info": {
   "codemirror_mode": {
    "name": "ipython",
    "version": 3
   },
   "file_extension": ".py",
   "mimetype": "text/x-python",
   "name": "python",
   "nbconvert_exporter": "python",
   "pygments_lexer": "ipython3",
   "version": "3.8.8"
  }
 },
 "nbformat": 4,
 "nbformat_minor": 5
}
