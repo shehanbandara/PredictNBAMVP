{
 "cells": [
  {
   "cell_type": "markdown",
   "id": "1c52dd1d-7227-4cbc-952d-89bad249f05e",
   "metadata": {},
   "source": [
    "**currentMVPS.csv last updated on 2022/01/11**"
   ]
  },
  {
   "cell_type": "markdown",
   "id": "b5afdef9-765b-437e-a332-c57d447a97ab",
   "metadata": {},
   "source": [
    "Imports"
   ]
  },
  {
   "cell_type": "code",
   "execution_count": 1,
   "id": "7491c1d4-d6ef-4a72-88a0-8af15a7375cd",
   "metadata": {},
   "outputs": [],
   "source": [
    "import matplotlib.pyplot as plt\n",
    "%matplotlib inline\n",
    "import numpy as np\n",
    "import pandas as pd\n",
    "from operator import itemgetter\n",
    "from sklearn import neighbors\n",
    "from sklearn.ensemble import RandomForestRegressor\n",
    "from sklearn.model_selection import train_test_split\n",
    "from sklearn.neural_network import MLPRegressor"
   ]
  },
  {
   "cell_type": "markdown",
   "id": "b197deb6-88d4-4b1b-a014-903de8f4fa76",
   "metadata": {},
   "source": [
    "Read currentMVPRace.csv and pastMVPS.csv"
   ]
  },
  {
   "cell_type": "code",
   "execution_count": 2,
   "id": "2b605630-c6b9-41c9-af1a-e2832e42b88d",
   "metadata": {},
   "outputs": [],
   "source": [
    "currentMVPs = pd.read_csv('Data/currentMVPRace.csv')\n",
    "pastMVPS = pd.read_csv('Data/pastMVPS.csv')"
   ]
  },
  {
   "cell_type": "markdown",
   "id": "5deeedd3-6f32-4a44-bc62-ec1c91625b01",
   "metadata": {},
   "source": [
    "Split the data into a random train and test set (80% => training data, 20% => testing data)"
   ]
  },
  {
   "cell_type": "code",
   "execution_count": 3,
   "id": "f80e726a-63ed-44d5-af3d-d2c0345aa7ab",
   "metadata": {},
   "outputs": [],
   "source": [
    "train, test = train_test_split(pastMVPS, test_size=0.2, random_state=5)\n",
    "\n",
    "Xtrain = train[['G', 'Team Wins', 'Overall Seed', 'MP', 'PTS', 'TRB', 'AST', 'STL', 'BLK', 'FG%', '3P%', 'FT%', 'WS', 'WS/48', 'VORP', 'BPM']]\n",
    "Ytrain = train[['Share']]\n",
    "Xtest = test[['G', 'Team Wins', 'Overall Seed', 'MP', 'PTS', 'TRB', 'AST', 'STL', 'BLK', 'FG%', '3P%', 'FT%', 'WS', 'WS/48', 'VORP', 'BPM']]\n",
    "Ytest = test[['Share']]"
   ]
  },
  {
   "cell_type": "markdown",
   "id": "5a32b8a3-52ff-48cf-97d4-a1109bcb5253",
   "metadata": {},
   "source": [
    "Perform Random Forest Regression to figure out feature importance"
   ]
  },
  {
   "cell_type": "code",
   "execution_count": 4,
   "id": "b464d9b6-55a5-406e-95c6-fd795407f773",
   "metadata": {},
   "outputs": [],
   "source": [
    "RFF = RandomForestRegressor(random_state = 100, criterion = 'mse')"
   ]
  },
  {
   "cell_type": "code",
   "execution_count": 5,
   "id": "f5847a98-2a7a-4c47-903f-67aca2d98b96",
   "metadata": {},
   "outputs": [],
   "source": [
    "RFF.fit(Xtrain, Ytrain.values.ravel())\n",
    "prediction = RFF.predict(Xtest)\n",
    "sorted = RFF.feature_importances_.argsort()"
   ]
  },
  {
   "cell_type": "markdown",
   "id": "508a5ac3-eaa4-43cb-af81-c36adc1a987f",
   "metadata": {},
   "source": [
    "Plot feature importance"
   ]
  },
  {
   "cell_type": "code",
   "execution_count": 6,
   "id": "37341863-ee17-40af-8fb4-1de6f27eb82b",
   "metadata": {},
   "outputs": [
    {
     "data": {
      "text/plain": [
       "([0, 1, 2, 3, 4, 5, 6, 7, 8, 9, 10, 11, 12, 13, 14, 15],\n",
       " [Text(0, 0, ''),\n",
       "  Text(0, 0, ''),\n",
       "  Text(0, 0, ''),\n",
       "  Text(0, 0, ''),\n",
       "  Text(0, 0, ''),\n",
       "  Text(0, 0, ''),\n",
       "  Text(0, 0, ''),\n",
       "  Text(0, 0, ''),\n",
       "  Text(0, 0, ''),\n",
       "  Text(0, 0, ''),\n",
       "  Text(0, 0, ''),\n",
       "  Text(0, 0, ''),\n",
       "  Text(0, 0, ''),\n",
       "  Text(0, 0, ''),\n",
       "  Text(0, 0, ''),\n",
       "  Text(0, 0, '')])"
      ]
     },
     "execution_count": 6,
     "metadata": {},
     "output_type": "execute_result"
    },
    {
     "data": {
      "image/png": "[encoded data removed]",
      "text/plain": [
       "<Figure size 432x288 with 1 Axes>"
      ]
     },
     "metadata": {
      "needs_background": "light"
     },
     "output_type": "display_data"
    }
   ],
   "source": [
    "plt.bar(Xtrain.columns[sorted], RFF.feature_importances_[sorted], color='lightblue')\n",
    "plt.xticks(rotation=90)"
   ]
  },
  {
   "cell_type": "markdown",
   "id": "5f7661b5-b733-4d7c-b365-a038ccb8eb70",
   "metadata": {},
   "source": [
    "**Remove:**\n",
    "- G => Weakest feature\n",
    "- MP => Practically not important\n",
    "- FT% => There have been many MVP winners with terrible FT%\n",
    "- Team Wins => Overall Seed is a better feature\n",
    "- BPM => VORP is a better feature\n",
    "- WS/48 => WS is a better feature"
   ]
  },
  {
   "cell_type": "markdown",
   "id": "ad8e0c42-2c6f-4ed5-a958-7bcbf4409341",
   "metadata": {},
   "source": [
    "Split the important features into a random train and test set (80% => training data, 20% => testing data)"
   ]
  },
  {
   "cell_type": "code",
   "execution_count": 7,
   "id": "39fbe81b-b90f-44d6-b7c4-2178834e83a7",
   "metadata": {},
   "outputs": [],
   "source": [
    "train, test = train_test_split(pastMVPS, test_size=0.2, random_state=5)\n",
    "\n",
    "Xtrain = train[['Overall Seed', 'PTS', 'TRB', 'AST', 'STL', 'BLK', 'FG%', '3P%', 'WS', 'VORP']]\n",
    "Ytrain = train[['Share']]\n",
    "Xtest = test[['Overall Seed', 'PTS', 'TRB', 'AST', 'STL', 'BLK', 'FG%', '3P%', 'WS', 'VORP']]\n",
    "Ytest = test[['Share']]"
   ]
  },
  {
   "cell_type": "markdown",
   "id": "4838854e-e311-4bc4-bd2b-0e5b3c631ecb",
   "metadata": {},
   "source": [
    "Select important features from the current MVP race"
   ]
  },
  {
   "cell_type": "code",
   "execution_count": 8,
   "id": "a2850e56-b298-4943-a689-996e0240ab38",
   "metadata": {},
   "outputs": [
    {
     "data": {
      "text/html": [
       "<div>\n",
       "<style scoped>\n",
       "    .dataframe tbody tr th:only-of-type {\n",
       "        vertical-align: middle;\n",
       "    }\n",
       "\n",
       "    .dataframe tbody tr th {\n",
       "        vertical-align: top;\n",
       "    }\n",
       "\n",
       "    .dataframe thead th {\n",
       "        text-align: right;\n",
       "    }\n",
       "</style>\n",
       "<table border=\"1\" class=\"dataframe\">\n",
       "  <thead>\n",
       "    <tr style=\"text-align: right;\">\n",
       "      <th></th>\n",
       "      <th>Rank</th>\n",
       "      <th>Player</th>\n",
       "      <th>Age</th>\n",
       "      <th>Tm</th>\n",
       "      <th>G</th>\n",
       "      <th>Team Wins</th>\n",
       "      <th>Overall Seed</th>\n",
       "      <th>MP</th>\n",
       "      <th>PTS</th>\n",
       "      <th>TRB</th>\n",
       "      <th>...</th>\n",
       "      <th>FT%</th>\n",
       "      <th>WS</th>\n",
       "      <th>WS/48</th>\n",
       "      <th>VORP</th>\n",
       "      <th>BPM</th>\n",
       "      <th>G-Unadjusted</th>\n",
       "      <th>Wins-Unadjusted</th>\n",
       "      <th>WS-Unadjusted</th>\n",
       "      <th>VORP-Unadjusted</th>\n",
       "      <th>Total-Games</th>\n",
       "    </tr>\n",
       "  </thead>\n",
       "  <tbody>\n",
       "    <tr>\n",
       "      <th>0</th>\n",
       "      <td>1</td>\n",
       "      <td>Giannis Antetokounmpo</td>\n",
       "      <td>27</td>\n",
       "      <td>MIL</td>\n",
       "      <td>64.428571</td>\n",
       "      <td>50.761905</td>\n",
       "      <td>8</td>\n",
       "      <td>32.4</td>\n",
       "      <td>28.5</td>\n",
       "      <td>11.4</td>\n",
       "      <td>...</td>\n",
       "      <td>0.702</td>\n",
       "      <td>12.495238</td>\n",
       "      <td>0.288</td>\n",
       "      <td>6.833333</td>\n",
       "      <td>10.8</td>\n",
       "      <td>33</td>\n",
       "      <td>26</td>\n",
       "      <td>6.4</td>\n",
       "      <td>3.5</td>\n",
       "      <td>42</td>\n",
       "    </tr>\n",
       "    <tr>\n",
       "      <th>1</th>\n",
       "      <td>2</td>\n",
       "      <td>Nikola Jokić</td>\n",
       "      <td>26</td>\n",
       "      <td>DEN</td>\n",
       "      <td>71.210526</td>\n",
       "      <td>43.157895</td>\n",
       "      <td>14</td>\n",
       "      <td>32.7</td>\n",
       "      <td>25.8</td>\n",
       "      <td>14.2</td>\n",
       "      <td>...</td>\n",
       "      <td>0.770</td>\n",
       "      <td>13.378947</td>\n",
       "      <td>0.275</td>\n",
       "      <td>9.063158</td>\n",
       "      <td>13.4</td>\n",
       "      <td>33</td>\n",
       "      <td>20</td>\n",
       "      <td>6.2</td>\n",
       "      <td>4.2</td>\n",
       "      <td>38</td>\n",
       "    </tr>\n",
       "    <tr>\n",
       "      <th>2</th>\n",
       "      <td>3</td>\n",
       "      <td>Kevin Durant</td>\n",
       "      <td>33</td>\n",
       "      <td>BRK</td>\n",
       "      <td>71.210526</td>\n",
       "      <td>53.947368</td>\n",
       "      <td>6</td>\n",
       "      <td>37.2</td>\n",
       "      <td>29.9</td>\n",
       "      <td>7.6</td>\n",
       "      <td>...</td>\n",
       "      <td>0.888</td>\n",
       "      <td>11.436842</td>\n",
       "      <td>0.207</td>\n",
       "      <td>6.042105</td>\n",
       "      <td>6.9</td>\n",
       "      <td>33</td>\n",
       "      <td>25</td>\n",
       "      <td>5.3</td>\n",
       "      <td>2.8</td>\n",
       "      <td>38</td>\n",
       "    </tr>\n",
       "    <tr>\n",
       "      <th>3</th>\n",
       "      <td>4</td>\n",
       "      <td>Rudy Gobert</td>\n",
       "      <td>29</td>\n",
       "      <td>UTA</td>\n",
       "      <td>75.850000</td>\n",
       "      <td>57.400000</td>\n",
       "      <td>4</td>\n",
       "      <td>32.1</td>\n",
       "      <td>15.5</td>\n",
       "      <td>15.1</td>\n",
       "      <td>...</td>\n",
       "      <td>0.683</td>\n",
       "      <td>14.145000</td>\n",
       "      <td>0.277</td>\n",
       "      <td>4.510000</td>\n",
       "      <td>5.3</td>\n",
       "      <td>37</td>\n",
       "      <td>28</td>\n",
       "      <td>6.9</td>\n",
       "      <td>2.2</td>\n",
       "      <td>40</td>\n",
       "    </tr>\n",
       "    <tr>\n",
       "      <th>4</th>\n",
       "      <td>5</td>\n",
       "      <td>Stephen Curry</td>\n",
       "      <td>33</td>\n",
       "      <td>GSW</td>\n",
       "      <td>75.692308</td>\n",
       "      <td>63.076923</td>\n",
       "      <td>1</td>\n",
       "      <td>34.8</td>\n",
       "      <td>26.8</td>\n",
       "      <td>5.3</td>\n",
       "      <td>...</td>\n",
       "      <td>0.919</td>\n",
       "      <td>10.512821</td>\n",
       "      <td>0.191</td>\n",
       "      <td>6.097436</td>\n",
       "      <td>7.0</td>\n",
       "      <td>36</td>\n",
       "      <td>30</td>\n",
       "      <td>5.0</td>\n",
       "      <td>2.9</td>\n",
       "      <td>39</td>\n",
       "    </tr>\n",
       "    <tr>\n",
       "      <th>5</th>\n",
       "      <td>6</td>\n",
       "      <td>LeBron James</td>\n",
       "      <td>37</td>\n",
       "      <td>LAL</td>\n",
       "      <td>58.000000</td>\n",
       "      <td>42.000000</td>\n",
       "      <td>15</td>\n",
       "      <td>36.8</td>\n",
       "      <td>28.9</td>\n",
       "      <td>7.4</td>\n",
       "      <td>...</td>\n",
       "      <td>0.785</td>\n",
       "      <td>9.800000</td>\n",
       "      <td>0.221</td>\n",
       "      <td>5.800000</td>\n",
       "      <td>8.7</td>\n",
       "      <td>29</td>\n",
       "      <td>21</td>\n",
       "      <td>4.9</td>\n",
       "      <td>2.9</td>\n",
       "      <td>41</td>\n",
       "    </tr>\n",
       "    <tr>\n",
       "      <th>6</th>\n",
       "      <td>7</td>\n",
       "      <td>Chris Paul</td>\n",
       "      <td>36</td>\n",
       "      <td>PHO</td>\n",
       "      <td>82.000000</td>\n",
       "      <td>63.076923</td>\n",
       "      <td>2</td>\n",
       "      <td>32.2</td>\n",
       "      <td>14.0</td>\n",
       "      <td>4.4</td>\n",
       "      <td>...</td>\n",
       "      <td>0.832</td>\n",
       "      <td>11.353846</td>\n",
       "      <td>0.206</td>\n",
       "      <td>4.205128</td>\n",
       "      <td>4.4</td>\n",
       "      <td>39</td>\n",
       "      <td>30</td>\n",
       "      <td>5.4</td>\n",
       "      <td>2.0</td>\n",
       "      <td>39</td>\n",
       "    </tr>\n",
       "    <tr>\n",
       "      <th>7</th>\n",
       "      <td>8</td>\n",
       "      <td>James Harden</td>\n",
       "      <td>32</td>\n",
       "      <td>BRK</td>\n",
       "      <td>73.368421</td>\n",
       "      <td>53.947368</td>\n",
       "      <td>6</td>\n",
       "      <td>36.9</td>\n",
       "      <td>22.4</td>\n",
       "      <td>8.1</td>\n",
       "      <td>...</td>\n",
       "      <td>0.869</td>\n",
       "      <td>8.631579</td>\n",
       "      <td>0.154</td>\n",
       "      <td>4.100000</td>\n",
       "      <td>4.1</td>\n",
       "      <td>34</td>\n",
       "      <td>25</td>\n",
       "      <td>4.0</td>\n",
       "      <td>1.9</td>\n",
       "      <td>38</td>\n",
       "    </tr>\n",
       "    <tr>\n",
       "      <th>8</th>\n",
       "      <td>9</td>\n",
       "      <td>Ja Morant</td>\n",
       "      <td>22</td>\n",
       "      <td>MEM</td>\n",
       "      <td>54.666667</td>\n",
       "      <td>54.666667</td>\n",
       "      <td>5</td>\n",
       "      <td>32.2</td>\n",
       "      <td>24.7</td>\n",
       "      <td>5.8</td>\n",
       "      <td>...</td>\n",
       "      <td>0.768</td>\n",
       "      <td>7.028571</td>\n",
       "      <td>0.184</td>\n",
       "      <td>3.709524</td>\n",
       "      <td>6.3</td>\n",
       "      <td>29</td>\n",
       "      <td>28</td>\n",
       "      <td>3.6</td>\n",
       "      <td>1.9</td>\n",
       "      <td>42</td>\n",
       "    </tr>\n",
       "    <tr>\n",
       "      <th>9</th>\n",
       "      <td>10</td>\n",
       "      <td>DeMar DeRozan</td>\n",
       "      <td>32</td>\n",
       "      <td>CHI</td>\n",
       "      <td>57.621622</td>\n",
       "      <td>57.621622</td>\n",
       "      <td>3</td>\n",
       "      <td>35.1</td>\n",
       "      <td>26.4</td>\n",
       "      <td>5.0</td>\n",
       "      <td>...</td>\n",
       "      <td>0.852</td>\n",
       "      <td>9.529730</td>\n",
       "      <td>0.174</td>\n",
       "      <td>2.881081</td>\n",
       "      <td>2.2</td>\n",
       "      <td>34</td>\n",
       "      <td>26</td>\n",
       "      <td>4.3</td>\n",
       "      <td>1.3</td>\n",
       "      <td>37</td>\n",
       "    </tr>\n",
       "  </tbody>\n",
       "</table>\n",
       "<p>10 rows × 25 columns</p>\n",
       "</div>"
      ],
      "text/plain": [
       "   Rank                 Player  Age   Tm          G  Team Wins  Overall Seed  \\\n",
       "0     1  Giannis Antetokounmpo   27  MIL  64.428571  50.761905             8   \n",
       "1     2           Nikola Jokić   26  DEN  71.210526  43.157895            14   \n",
       "2     3           Kevin Durant   33  BRK  71.210526  53.947368             6   \n",
       "3     4            Rudy Gobert   29  UTA  75.850000  57.400000             4   \n",
       "4     5          Stephen Curry   33  GSW  75.692308  63.076923             1   \n",
       "5     6           LeBron James   37  LAL  58.000000  42.000000            15   \n",
       "6     7             Chris Paul   36  PHO  82.000000  63.076923             2   \n",
       "7     8           James Harden   32  BRK  73.368421  53.947368             6   \n",
       "8     9              Ja Morant   22  MEM  54.666667  54.666667             5   \n",
       "9    10          DeMar DeRozan   32  CHI  57.621622  57.621622             3   \n",
       "\n",
       "     MP   PTS   TRB  ...    FT%         WS  WS/48      VORP   BPM  \\\n",
       "0  32.4  28.5  11.4  ...  0.702  12.495238  0.288  6.833333  10.8   \n",
       "1  32.7  25.8  14.2  ...  0.770  13.378947  0.275  9.063158  13.4   \n",
       "2  37.2  29.9   7.6  ...  0.888  11.436842  0.207  6.042105   6.9   \n",
       "3  32.1  15.5  15.1  ...  0.683  14.145000  0.277  4.510000   5.3   \n",
       "4  34.8  26.8   5.3  ...  0.919  10.512821  0.191  6.097436   7.0   \n",
       "5  36.8  28.9   7.4  ...  0.785   9.800000  0.221  5.800000   8.7   \n",
       "6  32.2  14.0   4.4  ...  0.832  11.353846  0.206  4.205128   4.4   \n",
       "7  36.9  22.4   8.1  ...  0.869   8.631579  0.154  4.100000   4.1   \n",
       "8  32.2  24.7   5.8  ...  0.768   7.028571  0.184  3.709524   6.3   \n",
       "9  35.1  26.4   5.0  ...  0.852   9.529730  0.174  2.881081   2.2   \n",
       "\n",
       "   G-Unadjusted  Wins-Unadjusted  WS-Unadjusted  VORP-Unadjusted  Total-Games  \n",
       "0            33               26            6.4              3.5           42  \n",
       "1            33               20            6.2              4.2           38  \n",
       "2            33               25            5.3              2.8           38  \n",
       "3            37               28            6.9              2.2           40  \n",
       "4            36               30            5.0              2.9           39  \n",
       "5            29               21            4.9              2.9           41  \n",
       "6            39               30            5.4              2.0           39  \n",
       "7            34               25            4.0              1.9           38  \n",
       "8            29               28            3.6              1.9           42  \n",
       "9            34               26            4.3              1.3           37  \n",
       "\n",
       "[10 rows x 25 columns]"
      ]
     },
     "execution_count": 8,
     "metadata": {},
     "output_type": "execute_result"
    }
   ],
   "source": [
    "currentMVPs.head(10)"
   ]
  },
  {
   "cell_type": "code",
   "execution_count": 9,
   "id": "bec6c8f9-0feb-42ed-bf1d-339710e93133",
   "metadata": {},
   "outputs": [],
   "source": [
    "currentMVPNames = currentMVPs.iloc[:,1]\n",
    "currentMVPs = currentMVPs[['Overall Seed', 'PTS', 'TRB', 'AST', 'STL', 'BLK', 'FG%', '3P%', 'WS', 'VORP']]"
   ]
  },
  {
   "cell_type": "markdown",
   "id": "fcb3407c-b67b-4ada-b7ca-c09904090a70",
   "metadata": {},
   "source": [
    "### KNN"
   ]
  },
  {
   "cell_type": "code",
   "execution_count": 10,
   "id": "5b88db77-65b2-490b-b2c4-10ae3842f663",
   "metadata": {},
   "outputs": [],
   "source": [
    "KNN = neighbors.KNeighborsRegressor(\n",
    "    n_neighbors=9,\n",
    "    weights='uniform'\n",
    ")"
   ]
  },
  {
   "cell_type": "code",
   "execution_count": 11,
   "id": "d5c1bd18-a329-47d5-a34e-c16a9094790f",
   "metadata": {},
   "outputs": [
    {
     "data": {
      "text/plain": [
       "KNeighborsRegressor(n_neighbors=9)"
      ]
     },
     "execution_count": 11,
     "metadata": {},
     "output_type": "execute_result"
    }
   ],
   "source": [
    "KNN.fit(Xtrain, Ytrain.values.ravel())"
   ]
  },
  {
   "cell_type": "code",
   "execution_count": 12,
   "id": "5cd75c67-e7ff-499c-938d-118d9090c33e",
   "metadata": {},
   "outputs": [
    {
     "name": "stdout",
     "output_type": "stream",
     "text": [
      "Giannis Antetokounmpo 0.2284444444444444\n",
      "Nikola Jokić 0.10866666666666668\n",
      "Kevin Durant 0.1797777777777778\n",
      "Rudy Gobert 0.16722222222222222\n",
      "Stephen Curry 0.26644444444444443\n",
      "LeBron James 0.09933333333333334\n",
      "Chris Paul 0.2048888888888889\n",
      "James Harden 0.14922222222222226\n",
      "Ja Morant 0.19322222222222224\n",
      "DeMar DeRozan 0.1722222222222222\n"
     ]
    }
   ],
   "source": [
    "KNNCurrentMVPsPrediction = KNN.predict(currentMVPs).tolist()\n",
    "\n",
    "for (i, j) in zip(currentMVPNames, KNNCurrentMVPsPrediction):\n",
    "    print(i, j)"
   ]
  },
  {
   "cell_type": "code",
   "execution_count": 13,
   "id": "cc0cea1f-7bcc-44c1-bb6d-f1fb24c3b4c4",
   "metadata": {},
   "outputs": [
    {
     "data": {
      "text/plain": [
       "Text(0.5, 0.98, 'KNN Prediction MVP Share')"
      ]
     },
     "execution_count": 13,
     "metadata": {},
     "output_type": "execute_result"
    },
    {
     "data": {
      "image/png": "[encoded data removed]",
      "text/plain": [
       "<Figure size 432x288 with 1 Axes>"
      ]
     },
     "metadata": {
      "needs_background": "light"
     },
     "output_type": "display_data"
    }
   ],
   "source": [
    "plt.bar(currentMVPNames, KNNCurrentMVPsPrediction, color='lightblue')\n",
    "plt.xticks(rotation=90)\n",
    "plt.suptitle(\"KNN Prediction MVP Share\", weight = 'bold')"
   ]
  },
  {
   "cell_type": "markdown",
   "id": "91816885-3a95-42cc-87b8-c5d3b0accd92",
   "metadata": {
    "tags": []
   },
   "source": [
    "### MLP"
   ]
  },
  {
   "cell_type": "code",
   "execution_count": 14,
   "id": "6dda12d3-675a-4fea-9ef2-8b367ebd5578",
   "metadata": {},
   "outputs": [],
   "source": [
    "MLP = MLPRegressor(\n",
    "    solver='adam',\n",
    "    activation='relu',\n",
    "    learning_rate ='invscaling',\n",
    "    hidden_layer_sizes=100,\n",
    "    max_iter=10000,\n",
    "    random_state=5\n",
    ")"
   ]
  },
  {
   "cell_type": "code",
   "execution_count": 15,
   "id": "be85a9fd-b564-4af6-9e3b-59c17662b423",
   "metadata": {},
   "outputs": [
    {
     "data": {
      "text/plain": [
       "MLPRegressor(hidden_layer_sizes=100, learning_rate='invscaling', max_iter=10000,\n",
       "             random_state=5)"
      ]
     },
     "execution_count": 15,
     "metadata": {},
     "output_type": "execute_result"
    }
   ],
   "source": [
    "MLP.fit(Xtrain, Ytrain.values.ravel())"
   ]
  },
  {
   "cell_type": "code",
   "execution_count": 16,
   "id": "ea97e0cd-6527-4fdf-a0a7-566af58773a3",
   "metadata": {},
   "outputs": [
    {
     "name": "stdout",
     "output_type": "stream",
     "text": [
      "Giannis Antetokounmpo 0.2289730754477728\n",
      "Nikola Jokić 0.2384270479978401\n",
      "Kevin Durant 0.2672531697092797\n",
      "Rudy Gobert 0.30027510572352134\n",
      "Stephen Curry 0.6991048524873738\n",
      "LeBron James 0.1537344696988896\n",
      "Chris Paul 0.1642892512599442\n",
      "James Harden 0.12420482861504367\n",
      "Ja Morant -0.0006009201434904465\n",
      "DeMar DeRozan 0.17854682578753178\n"
     ]
    }
   ],
   "source": [
    "MLPCurrentMVPsPrediction = MLP.predict(currentMVPs).tolist()\n",
    "\n",
    "for (i, j) in zip(currentMVPNames, MLPCurrentMVPsPrediction):\n",
    "    print(i, j)"
   ]
  },
  {
   "cell_type": "code",
   "execution_count": 17,
   "id": "e877f336-73ba-412a-ac63-2445ce41ace6",
   "metadata": {},
   "outputs": [
    {
     "data": {
      "text/plain": [
       "Text(0.5, 0.98, 'MLP Prediction MVP Share')"
      ]
     },
     "execution_count": 17,
     "metadata": {},
     "output_type": "execute_result"
    },
    {
     "data": {
      "image/png": "[encoded data removed]",
      "text/plain": [
       "<Figure size 432x288 with 1 Axes>"
      ]
     },
     "metadata": {
      "needs_background": "light"
     },
     "output_type": "display_data"
    }
   ],
   "source": [
    "plt.bar(currentMVPNames, MLPCurrentMVPsPrediction, color='lightblue')\n",
    "plt.xticks(rotation=90)\n",
    "plt.suptitle(\"MLP Prediction MVP Share\", weight = 'bold')"
   ]
  },
  {
   "cell_type": "code",
   "execution_count": null,
   "id": "c591e785-8512-467f-96cb-20ee66ed17c3",
   "metadata": {},
   "outputs": [],
   "source": []
  }
 ],
 "metadata": {
  "kernelspec": {
   "display_name": "Python 3",
   "language": "python",
   "name": "python3"
  },
  "language_info": {
   "codemirror_mode": {
    "name": "ipython",
    "version": 3
   },
   "file_extension": ".py",
   "mimetype": "text/x-python",
   "name": "python",
   "nbconvert_exporter": "python",
   "pygments_lexer": "ipython3",
   "version": "3.8.8"
  }
 },
 "nbformat": 4,
 "nbformat_minor": 5
}
