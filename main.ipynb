{
 "cells": [
  {
   "cell_type": "markdown",
   "id": "1c52dd1d-7227-4cbc-952d-89bad249f05e",
   "metadata": {},
   "source": [
    "**currentMVPS.csv last updated on 2022/01/11**"
   ]
  },
  {
   "cell_type": "markdown",
   "id": "b5afdef9-765b-437e-a332-c57d447a97ab",
   "metadata": {},
   "source": [
    "Imports"
   ]
  },
  {
   "cell_type": "code",
   "execution_count": 1,
   "id": "7491c1d4-d6ef-4a72-88a0-8af15a7375cd",
   "metadata": {},
   "outputs": [],
   "source": [
    "import matplotlib.pyplot as plt\n",
    "%matplotlib inline\n",
    "import numpy as np\n",
    "import pandas as pd\n",
    "from sklearn import neighbors\n",
    "from sklearn.ensemble import RandomForestRegressor\n",
    "from sklearn.model_selection import train_test_split\n",
    "from sklearn.neural_network import MLPRegressor\n",
    "from xgboost import XGBRegressor"
   ]
  },
  {
   "cell_type": "markdown",
   "id": "b197deb6-88d4-4b1b-a014-903de8f4fa76",
   "metadata": {},
   "source": [
    "Read currentMVPRace.csv and pastMVPS.csv"
   ]
  },
  {
   "cell_type": "code",
   "execution_count": 2,
   "id": "2b605630-c6b9-41c9-af1a-e2832e42b88d",
   "metadata": {},
   "outputs": [],
   "source": [
    "currentMVPs = pd.read_csv('Data/currentMVPRace.csv')\n",
    "pastMVPS = pd.read_csv('Data/pastMVPS.csv')"
   ]
  },
  {
   "cell_type": "markdown",
   "id": "5deeedd3-6f32-4a44-bc62-ec1c91625b01",
   "metadata": {},
   "source": [
    "Split the data into a random train and test set (80% => training data, 20% => testing data)"
   ]
  },
  {
   "cell_type": "code",
   "execution_count": 3,
   "id": "f80e726a-63ed-44d5-af3d-d2c0345aa7ab",
   "metadata": {},
   "outputs": [],
   "source": [
    "train, test = train_test_split(pastMVPS, test_size=0.2, random_state=5)\n",
    "\n",
    "Xtrain = train[['G', 'Team Wins', 'Overall Seed', 'MP', 'PTS', 'TRB', 'AST', 'STL', 'BLK', 'FG%', '3P%', 'FT%', 'WS', 'WS/48', 'VORP', 'BPM']]\n",
    "Ytrain = train[['Share']]\n",
    "Xtest = test[['G', 'Team Wins', 'Overall Seed', 'MP', 'PTS', 'TRB', 'AST', 'STL', 'BLK', 'FG%', '3P%', 'FT%', 'WS', 'WS/48', 'VORP', 'BPM']]\n",
    "Ytest = test[['Share']]"
   ]
  },
  {
   "cell_type": "markdown",
   "id": "5a32b8a3-52ff-48cf-97d4-a1109bcb5253",
   "metadata": {},
   "source": [
    "Perform Random Forest Regression to figure out feature importance"
   ]
  },
  {
   "cell_type": "code",
   "execution_count": 4,
   "id": "b464d9b6-55a5-406e-95c6-fd795407f773",
   "metadata": {},
   "outputs": [],
   "source": [
    "RF = RandomForestRegressor(random_state = 100, criterion = 'mse')"
   ]
  },
  {
   "cell_type": "code",
   "execution_count": 5,
   "id": "f5847a98-2a7a-4c47-903f-67aca2d98b96",
   "metadata": {},
   "outputs": [],
   "source": [
    "RF.fit(Xtrain, Ytrain.values.ravel())\n",
    "prediction = RF.predict(Xtest)\n",
    "sorted = RF.feature_importances_.argsort()"
   ]
  },
  {
   "cell_type": "markdown",
   "id": "508a5ac3-eaa4-43cb-af81-c36adc1a987f",
   "metadata": {},
   "source": [
    "Plot feature importance"
   ]
  },
  {
   "cell_type": "code",
   "execution_count": 6,
   "id": "37341863-ee17-40af-8fb4-1de6f27eb82b",
   "metadata": {},
   "outputs": [
    {
     "data": {
      "text/plain": [
       "Text(0.5, 0.98, 'Feature Importance')"
      ]
     },
     "execution_count": 6,
     "metadata": {},
     "output_type": "execute_result"
    },
    {
     "data": {
      "image/png": "[encoded data removed]",
      "text/plain": [
       "<Figure size 432x288 with 1 Axes>"
      ]
     },
     "metadata": {
      "needs_background": "light"
     },
     "output_type": "display_data"
    }
   ],
   "source": [
    "plt.bar(Xtrain.columns[sorted], RF.feature_importances_[sorted], color='lightblue')\n",
    "plt.xticks(rotation=90)\n",
    "plt.suptitle(\"Feature Importance\", weight = 'bold')"
   ]
  },
  {
   "cell_type": "markdown",
   "id": "5f7661b5-b733-4d7c-b365-a038ccb8eb70",
   "metadata": {},
   "source": [
    "**Remove:**\n",
    "- G => Weakest feature\n",
    "- MP => Practically not important\n",
    "- FT% => There have been many MVP winners with terrible FT%\n",
    "- Team Wins => Overall Seed is a better feature\n",
    "- BPM => VORP is a better feature\n",
    "- WS/48 => WS is a better feature"
   ]
  },
  {
   "cell_type": "markdown",
   "id": "ad8e0c42-2c6f-4ed5-a958-7bcbf4409341",
   "metadata": {},
   "source": [
    "Split the important features into a random train and test set (80% => training data, 20% => testing data)"
   ]
  },
  {
   "cell_type": "code",
   "execution_count": 7,
   "id": "39fbe81b-b90f-44d6-b7c4-2178834e83a7",
   "metadata": {},
   "outputs": [],
   "source": [
    "train, test = train_test_split(pastMVPS, test_size=0.2, random_state=5)\n",
    "\n",
    "Xtrain = train[['Overall Seed', 'PTS', 'TRB', 'AST', 'STL', 'BLK', 'FG%', '3P%', 'WS', 'VORP']]\n",
    "Ytrain = train[['Share']]\n",
    "Xtest = test[['Overall Seed', 'PTS', 'TRB', 'AST', 'STL', 'BLK', 'FG%', '3P%', 'WS', 'VORP']]\n",
    "Ytest = test[['Share']]"
   ]
  },
  {
   "cell_type": "markdown",
   "id": "4838854e-e311-4bc4-bd2b-0e5b3c631ecb",
   "metadata": {},
   "source": [
    "Select important features from the current MVP race"
   ]
  },
  {
   "cell_type": "code",
   "execution_count": 8,
   "id": "a2850e56-b298-4943-a689-996e0240ab38",
   "metadata": {},
   "outputs": [
    {
     "data": {
      "text/html": [
       "<div>\n",
       "<style scoped>\n",
       "    .dataframe tbody tr th:only-of-type {\n",
       "        vertical-align: middle;\n",
       "    }\n",
       "\n",
       "    .dataframe tbody tr th {\n",
       "        vertical-align: top;\n",
       "    }\n",
       "\n",
       "    .dataframe thead th {\n",
       "        text-align: right;\n",
       "    }\n",
       "</style>\n",
       "<table border=\"1\" class=\"dataframe\">\n",
       "  <thead>\n",
       "    <tr style=\"text-align: right;\">\n",
       "      <th></th>\n",
       "      <th>Rank</th>\n",
       "      <th>Player</th>\n",
       "      <th>Age</th>\n",
       "      <th>Tm</th>\n",
       "      <th>G</th>\n",
       "      <th>Team Wins</th>\n",
       "      <th>Overall Seed</th>\n",
       "      <th>MP</th>\n",
       "      <th>PTS</th>\n",
       "      <th>TRB</th>\n",
       "      <th>...</th>\n",
       "      <th>FT%</th>\n",
       "      <th>WS</th>\n",
       "      <th>WS/48</th>\n",
       "      <th>VORP</th>\n",
       "      <th>BPM</th>\n",
       "      <th>G-Unadjusted</th>\n",
       "      <th>Wins-Unadjusted</th>\n",
       "      <th>WS-Unadjusted</th>\n",
       "      <th>VORP-Unadjusted</th>\n",
       "      <th>Total-Games</th>\n",
       "    </tr>\n",
       "  </thead>\n",
       "  <tbody>\n",
       "    <tr>\n",
       "      <th>0</th>\n",
       "      <td>1</td>\n",
       "      <td>Nikola Jokić</td>\n",
       "      <td>27</td>\n",
       "      <td>DEN</td>\n",
       "      <td>73.517241</td>\n",
       "      <td>46.655172</td>\n",
       "      <td>11</td>\n",
       "      <td>33.0</td>\n",
       "      <td>26.0</td>\n",
       "      <td>13.8</td>\n",
       "      <td>...</td>\n",
       "      <td>0.808</td>\n",
       "      <td>14.986207</td>\n",
       "      <td>0.296</td>\n",
       "      <td>9.896551</td>\n",
       "      <td>14.0</td>\n",
       "      <td>52</td>\n",
       "      <td>33</td>\n",
       "      <td>10.6</td>\n",
       "      <td>7.0</td>\n",
       "      <td>58</td>\n",
       "    </tr>\n",
       "    <tr>\n",
       "      <th>1</th>\n",
       "      <td>2</td>\n",
       "      <td>Giannis Antetokounmpo</td>\n",
       "      <td>27</td>\n",
       "      <td>MIL</td>\n",
       "      <td>66.966667</td>\n",
       "      <td>49.200000</td>\n",
       "      <td>9</td>\n",
       "      <td>32.7</td>\n",
       "      <td>29.4</td>\n",
       "      <td>11.2</td>\n",
       "      <td>...</td>\n",
       "      <td>0.721</td>\n",
       "      <td>13.393333</td>\n",
       "      <td>0.298</td>\n",
       "      <td>7.380000</td>\n",
       "      <td>11.3</td>\n",
       "      <td>49</td>\n",
       "      <td>36</td>\n",
       "      <td>9.8</td>\n",
       "      <td>5.4</td>\n",
       "      <td>60</td>\n",
       "    </tr>\n",
       "    <tr>\n",
       "      <th>2</th>\n",
       "      <td>3</td>\n",
       "      <td>Joel Embiid</td>\n",
       "      <td>27</td>\n",
       "      <td>PHI</td>\n",
       "      <td>65.034483</td>\n",
       "      <td>49.482757</td>\n",
       "      <td>7</td>\n",
       "      <td>32.9</td>\n",
       "      <td>26.9</td>\n",
       "      <td>11.2</td>\n",
       "      <td>...</td>\n",
       "      <td>0.813</td>\n",
       "      <td>11.734483</td>\n",
       "      <td>0.262</td>\n",
       "      <td>6.503448</td>\n",
       "      <td>9.9</td>\n",
       "      <td>46</td>\n",
       "      <td>35</td>\n",
       "      <td>8.3</td>\n",
       "      <td>4.6</td>\n",
       "      <td>58</td>\n",
       "    </tr>\n",
       "    <tr>\n",
       "      <th>3</th>\n",
       "      <td>4</td>\n",
       "      <td>Chris Paul</td>\n",
       "      <td>36</td>\n",
       "      <td>PHO</td>\n",
       "      <td>82.000000</td>\n",
       "      <td>67.862069</td>\n",
       "      <td>1</td>\n",
       "      <td>33.0</td>\n",
       "      <td>14.9</td>\n",
       "      <td>4.5</td>\n",
       "      <td>...</td>\n",
       "      <td>0.843</td>\n",
       "      <td>12.300000</td>\n",
       "      <td>0.218</td>\n",
       "      <td>4.948276</td>\n",
       "      <td>5.3</td>\n",
       "      <td>58</td>\n",
       "      <td>48</td>\n",
       "      <td>8.7</td>\n",
       "      <td>3.5</td>\n",
       "      <td>58</td>\n",
       "    </tr>\n",
       "    <tr>\n",
       "      <th>4</th>\n",
       "      <td>5</td>\n",
       "      <td>Rudy Gobert</td>\n",
       "      <td>29</td>\n",
       "      <td>UTA</td>\n",
       "      <td>62.206897</td>\n",
       "      <td>50.896552</td>\n",
       "      <td>6</td>\n",
       "      <td>32.1</td>\n",
       "      <td>15.7</td>\n",
       "      <td>14.8</td>\n",
       "      <td>...</td>\n",
       "      <td>0.689</td>\n",
       "      <td>11.451724</td>\n",
       "      <td>0.274</td>\n",
       "      <td>3.675862</td>\n",
       "      <td>5.3</td>\n",
       "      <td>44</td>\n",
       "      <td>36</td>\n",
       "      <td>8.1</td>\n",
       "      <td>2.6</td>\n",
       "      <td>58</td>\n",
       "    </tr>\n",
       "    <tr>\n",
       "      <th>5</th>\n",
       "      <td>6</td>\n",
       "      <td>Stephen Curry</td>\n",
       "      <td>33</td>\n",
       "      <td>GSW</td>\n",
       "      <td>75.050847</td>\n",
       "      <td>58.372881</td>\n",
       "      <td>2</td>\n",
       "      <td>34.8</td>\n",
       "      <td>25.8</td>\n",
       "      <td>5.3</td>\n",
       "      <td>...</td>\n",
       "      <td>0.919</td>\n",
       "      <td>10.006780</td>\n",
       "      <td>0.183</td>\n",
       "      <td>5.281356</td>\n",
       "      <td>6.0</td>\n",
       "      <td>54</td>\n",
       "      <td>42</td>\n",
       "      <td>7.2</td>\n",
       "      <td>3.8</td>\n",
       "      <td>59</td>\n",
       "    </tr>\n",
       "    <tr>\n",
       "      <th>6</th>\n",
       "      <td>7</td>\n",
       "      <td>Luka Dončić</td>\n",
       "      <td>22</td>\n",
       "      <td>DAL</td>\n",
       "      <td>61.152542</td>\n",
       "      <td>48.644068</td>\n",
       "      <td>10</td>\n",
       "      <td>35.4</td>\n",
       "      <td>27.5</td>\n",
       "      <td>9.2</td>\n",
       "      <td>...</td>\n",
       "      <td>0.731</td>\n",
       "      <td>6.810169</td>\n",
       "      <td>0.151</td>\n",
       "      <td>5.281356</td>\n",
       "      <td>7.7</td>\n",
       "      <td>44</td>\n",
       "      <td>35</td>\n",
       "      <td>4.9</td>\n",
       "      <td>3.8</td>\n",
       "      <td>59</td>\n",
       "    </tr>\n",
       "    <tr>\n",
       "      <th>7</th>\n",
       "      <td>8</td>\n",
       "      <td>Ja Morant</td>\n",
       "      <td>22</td>\n",
       "      <td>MEM</td>\n",
       "      <td>62.866667</td>\n",
       "      <td>56.033333</td>\n",
       "      <td>3</td>\n",
       "      <td>33.2</td>\n",
       "      <td>26.8</td>\n",
       "      <td>5.8</td>\n",
       "      <td>...</td>\n",
       "      <td>0.755</td>\n",
       "      <td>7.790000</td>\n",
       "      <td>0.178</td>\n",
       "      <td>4.236667</td>\n",
       "      <td>6.0</td>\n",
       "      <td>46</td>\n",
       "      <td>41</td>\n",
       "      <td>5.7</td>\n",
       "      <td>3.1</td>\n",
       "      <td>60</td>\n",
       "    </tr>\n",
       "    <tr>\n",
       "      <th>8</th>\n",
       "      <td>9</td>\n",
       "      <td>DeMar DeRozan</td>\n",
       "      <td>32</td>\n",
       "      <td>CHI</td>\n",
       "      <td>76.440698</td>\n",
       "      <td>52.813559</td>\n",
       "      <td>5</td>\n",
       "      <td>35.6</td>\n",
       "      <td>28.1</td>\n",
       "      <td>5.2</td>\n",
       "      <td>...</td>\n",
       "      <td>0.866</td>\n",
       "      <td>10.701695</td>\n",
       "      <td>0.190</td>\n",
       "      <td>3.613559</td>\n",
       "      <td>3.3</td>\n",
       "      <td>55</td>\n",
       "      <td>38</td>\n",
       "      <td>7.7</td>\n",
       "      <td>2.6</td>\n",
       "      <td>59</td>\n",
       "    </tr>\n",
       "    <tr>\n",
       "      <th>9</th>\n",
       "      <td>10</td>\n",
       "      <td>Devin Booker</td>\n",
       "      <td>25</td>\n",
       "      <td>PHO</td>\n",
       "      <td>72.103448</td>\n",
       "      <td>67.862069</td>\n",
       "      <td>1</td>\n",
       "      <td>34.1</td>\n",
       "      <td>25.5</td>\n",
       "      <td>5.2</td>\n",
       "      <td>...</td>\n",
       "      <td>0.863</td>\n",
       "      <td>7.068966</td>\n",
       "      <td>0.137</td>\n",
       "      <td>2.968966</td>\n",
       "      <td>2.8</td>\n",
       "      <td>51</td>\n",
       "      <td>48</td>\n",
       "      <td>5.0</td>\n",
       "      <td>2.1</td>\n",
       "      <td>58</td>\n",
       "    </tr>\n",
       "  </tbody>\n",
       "</table>\n",
       "<p>10 rows × 25 columns</p>\n",
       "</div>"
      ],
      "text/plain": [
       "   Rank                 Player  Age   Tm          G  Team Wins  Overall Seed  \\\n",
       "0     1           Nikola Jokić   27  DEN  73.517241  46.655172            11   \n",
       "1     2  Giannis Antetokounmpo   27  MIL  66.966667  49.200000             9   \n",
       "2     3            Joel Embiid   27  PHI  65.034483  49.482757             7   \n",
       "3     4             Chris Paul   36  PHO  82.000000  67.862069             1   \n",
       "4     5            Rudy Gobert   29  UTA  62.206897  50.896552             6   \n",
       "5     6          Stephen Curry   33  GSW  75.050847  58.372881             2   \n",
       "6     7            Luka Dončić   22  DAL  61.152542  48.644068            10   \n",
       "7     8              Ja Morant   22  MEM  62.866667  56.033333             3   \n",
       "8     9          DeMar DeRozan   32  CHI  76.440698  52.813559             5   \n",
       "9    10           Devin Booker   25  PHO  72.103448  67.862069             1   \n",
       "\n",
       "     MP   PTS   TRB  ...    FT%         WS  WS/48      VORP   BPM  \\\n",
       "0  33.0  26.0  13.8  ...  0.808  14.986207  0.296  9.896551  14.0   \n",
       "1  32.7  29.4  11.2  ...  0.721  13.393333  0.298  7.380000  11.3   \n",
       "2  32.9  26.9  11.2  ...  0.813  11.734483  0.262  6.503448   9.9   \n",
       "3  33.0  14.9   4.5  ...  0.843  12.300000  0.218  4.948276   5.3   \n",
       "4  32.1  15.7  14.8  ...  0.689  11.451724  0.274  3.675862   5.3   \n",
       "5  34.8  25.8   5.3  ...  0.919  10.006780  0.183  5.281356   6.0   \n",
       "6  35.4  27.5   9.2  ...  0.731   6.810169  0.151  5.281356   7.7   \n",
       "7  33.2  26.8   5.8  ...  0.755   7.790000  0.178  4.236667   6.0   \n",
       "8  35.6  28.1   5.2  ...  0.866  10.701695  0.190  3.613559   3.3   \n",
       "9  34.1  25.5   5.2  ...  0.863   7.068966  0.137  2.968966   2.8   \n",
       "\n",
       "   G-Unadjusted  Wins-Unadjusted  WS-Unadjusted  VORP-Unadjusted  Total-Games  \n",
       "0            52               33           10.6              7.0           58  \n",
       "1            49               36            9.8              5.4           60  \n",
       "2            46               35            8.3              4.6           58  \n",
       "3            58               48            8.7              3.5           58  \n",
       "4            44               36            8.1              2.6           58  \n",
       "5            54               42            7.2              3.8           59  \n",
       "6            44               35            4.9              3.8           59  \n",
       "7            46               41            5.7              3.1           60  \n",
       "8            55               38            7.7              2.6           59  \n",
       "9            51               48            5.0              2.1           58  \n",
       "\n",
       "[10 rows x 25 columns]"
      ]
     },
     "execution_count": 8,
     "metadata": {},
     "output_type": "execute_result"
    }
   ],
   "source": [
    "currentMVPs.head(10)"
   ]
  },
  {
   "cell_type": "code",
   "execution_count": 9,
   "id": "bec6c8f9-0feb-42ed-bf1d-339710e93133",
   "metadata": {},
   "outputs": [],
   "source": [
    "currentMVPNames = currentMVPs.iloc[:,1]\n",
    "currentMVPs = currentMVPs[['Overall Seed', 'PTS', 'TRB', 'AST', 'STL', 'BLK', 'FG%', '3P%', 'WS', 'VORP']]"
   ]
  },
  {
   "cell_type": "markdown",
   "id": "fcb3407c-b67b-4ada-b7ca-c09904090a70",
   "metadata": {},
   "source": [
    "### KNN"
   ]
  },
  {
   "cell_type": "code",
   "execution_count": 10,
   "id": "5b88db77-65b2-490b-b2c4-10ae3842f663",
   "metadata": {},
   "outputs": [],
   "source": [
    "KNN = neighbors.KNeighborsRegressor(\n",
    "    n_neighbors=9,\n",
    "    weights='uniform'\n",
    ")"
   ]
  },
  {
   "cell_type": "code",
   "execution_count": 11,
   "id": "d5c1bd18-a329-47d5-a34e-c16a9094790f",
   "metadata": {},
   "outputs": [
    {
     "data": {
      "text/plain": [
       "KNeighborsRegressor(n_neighbors=9)"
      ]
     },
     "execution_count": 11,
     "metadata": {},
     "output_type": "execute_result"
    }
   ],
   "source": [
    "KNN.fit(Xtrain, Ytrain.values.ravel())"
   ]
  },
  {
   "cell_type": "code",
   "execution_count": 12,
   "id": "5cd75c67-e7ff-499c-938d-118d9090c33e",
   "metadata": {},
   "outputs": [
    {
     "name": "stdout",
     "output_type": "stream",
     "text": [
      "Nikola Jokić 0.28266666666666673\n",
      "Giannis Antetokounmpo 0.2306666666666667\n",
      "Joel Embiid 0.242\n",
      "Chris Paul 0.3154444444444444\n",
      "Rudy Gobert 0.09644444444444444\n",
      "Stephen Curry 0.17677777777777778\n",
      "Luka Dončić 0.16\n",
      "Ja Morant 0.18666666666666665\n",
      "DeMar DeRozan 0.18033333333333332\n",
      "Devin Booker 0.131\n"
     ]
    }
   ],
   "source": [
    "KNNCurrentMVPsPrediction = KNN.predict(currentMVPs).tolist()\n",
    "\n",
    "for (i, j) in zip(currentMVPNames, KNNCurrentMVPsPrediction):\n",
    "    print(i, j)"
   ]
  },
  {
   "cell_type": "code",
   "execution_count": 13,
   "id": "cc0cea1f-7bcc-44c1-bb6d-f1fb24c3b4c4",
   "metadata": {},
   "outputs": [
    {
     "data": {
      "text/plain": [
       "Text(0.5, 0.98, 'KNN Prediction MVP Share')"
      ]
     },
     "execution_count": 13,
     "metadata": {},
     "output_type": "execute_result"
    },
    {
     "data": {
      "image/png": "[encoded data removed]",
      "text/plain": [
       "<Figure size 432x288 with 1 Axes>"
      ]
     },
     "metadata": {
      "needs_background": "light"
     },
     "output_type": "display_data"
    }
   ],
   "source": [
    "plt.bar(currentMVPNames, KNNCurrentMVPsPrediction, color='lightblue')\n",
    "plt.xticks(rotation=90)\n",
    "plt.suptitle(\"KNN Prediction MVP Share\", weight = 'bold')"
   ]
  },
  {
   "cell_type": "markdown",
   "id": "91816885-3a95-42cc-87b8-c5d3b0accd92",
   "metadata": {
    "tags": []
   },
   "source": [
    "### MLP"
   ]
  },
  {
   "cell_type": "code",
   "execution_count": 14,
   "id": "6dda12d3-675a-4fea-9ef2-8b367ebd5578",
   "metadata": {},
   "outputs": [],
   "source": [
    "MLP = MLPRegressor(\n",
    "    solver='adam',\n",
    "    activation='relu',\n",
    "    learning_rate ='invscaling',\n",
    "    hidden_layer_sizes=100,\n",
    "    max_iter=10000,\n",
    "    random_state=5\n",
    ")"
   ]
  },
  {
   "cell_type": "code",
   "execution_count": 15,
   "id": "be85a9fd-b564-4af6-9e3b-59c17662b423",
   "metadata": {},
   "outputs": [
    {
     "data": {
      "text/plain": [
       "MLPRegressor(hidden_layer_sizes=100, learning_rate='invscaling', max_iter=10000,\n",
       "             random_state=5)"
      ]
     },
     "execution_count": 15,
     "metadata": {},
     "output_type": "execute_result"
    }
   ],
   "source": [
    "MLP.fit(Xtrain, Ytrain.values.ravel())"
   ]
  },
  {
   "cell_type": "code",
   "execution_count": 16,
   "id": "ea97e0cd-6527-4fdf-a0a7-566af58773a3",
   "metadata": {},
   "outputs": [
    {
     "name": "stdout",
     "output_type": "stream",
     "text": [
      "Nikola Jokić 0.28313374034626704\n",
      "Giannis Antetokounmpo 0.2550127558700217\n",
      "Joel Embiid 0.2206712670938309\n",
      "Chris Paul 0.23183765248278942\n",
      "Rudy Gobert 0.1516173876018756\n",
      "Stephen Curry 0.36185604934011106\n",
      "Luka Dončić 0.10854754996783655\n",
      "Ja Morant 0.21323780771825973\n",
      "DeMar DeRozan 0.11844883226299685\n",
      "Devin Booker 0.45077266981810316\n"
     ]
    }
   ],
   "source": [
    "MLPCurrentMVPsPrediction = MLP.predict(currentMVPs).tolist()\n",
    "\n",
    "for (i, j) in zip(currentMVPNames, MLPCurrentMVPsPrediction):\n",
    "    print(i, j)"
   ]
  },
  {
   "cell_type": "code",
   "execution_count": 17,
   "id": "e877f336-73ba-412a-ac63-2445ce41ace6",
   "metadata": {},
   "outputs": [
    {
     "data": {
      "text/plain": [
       "Text(0.5, 0.98, 'MLP Prediction MVP Share')"
      ]
     },
     "execution_count": 17,
     "metadata": {},
     "output_type": "execute_result"
    },
    {
     "data": {
      "image/png": "[encoded data removed]",
      "text/plain": [
       "<Figure size 432x288 with 1 Axes>"
      ]
     },
     "metadata": {
      "needs_background": "light"
     },
     "output_type": "display_data"
    }
   ],
   "source": [
    "plt.bar(currentMVPNames, MLPCurrentMVPsPrediction, color='lightblue')\n",
    "plt.xticks(rotation=90)\n",
    "plt.suptitle(\"MLP Prediction MVP Share\", weight = 'bold')"
   ]
  },
  {
   "cell_type": "markdown",
   "id": "1e8c3c2b-8b3d-4679-b529-2441715a5c8c",
   "metadata": {},
   "source": [
    "### RF"
   ]
  },
  {
   "cell_type": "code",
   "execution_count": 18,
   "id": "48ba300a-9055-4120-a806-eb2501e3be7e",
   "metadata": {},
   "outputs": [],
   "source": [
    "RF = RandomForestRegressor(random_state = 100, criterion = 'mse')"
   ]
  },
  {
   "cell_type": "code",
   "execution_count": 19,
   "id": "9411f239-2ea9-4604-800b-92033a6914d0",
   "metadata": {},
   "outputs": [
    {
     "data": {
      "text/plain": [
       "RandomForestRegressor(random_state=100)"
      ]
     },
     "execution_count": 19,
     "metadata": {},
     "output_type": "execute_result"
    }
   ],
   "source": [
    "RF.fit(Xtrain, Ytrain.values.ravel())"
   ]
  },
  {
   "cell_type": "code",
   "execution_count": 20,
   "id": "7317261d-3443-4caf-8035-e1c84b0d7fb5",
   "metadata": {},
   "outputs": [
    {
     "name": "stdout",
     "output_type": "stream",
     "text": [
      "Nikola Jokić 0.4368999999999999\n",
      "Giannis Antetokounmpo 0.27401999999999993\n",
      "Joel Embiid 0.2154999999999999\n",
      "Chris Paul 0.20315999999999998\n",
      "Rudy Gobert 0.13201000000000002\n",
      "Stephen Curry 0.22065000000000004\n",
      "Luka Dončić 0.12829000000000002\n",
      "Ja Morant 0.15361\n",
      "DeMar DeRozan 0.18427000000000004\n",
      "Devin Booker 0.11177\n"
     ]
    }
   ],
   "source": [
    "RFCurrentMVPsPrediction = RF.predict(currentMVPs).tolist()\n",
    "\n",
    "for (i, j) in zip(currentMVPNames, RFCurrentMVPsPrediction):\n",
    "    print(i, j)"
   ]
  },
  {
   "cell_type": "code",
   "execution_count": 21,
   "id": "3104da20-3df5-44bf-808d-7d724db4748f",
   "metadata": {},
   "outputs": [
    {
     "data": {
      "text/plain": [
       "Text(0.5, 0.98, 'RF Prediction MVP Share')"
      ]
     },
     "execution_count": 21,
     "metadata": {},
     "output_type": "execute_result"
    },
    {
     "data": {
      "image/png": "[encoded data removed]",
      "text/plain": [
       "<Figure size 432x288 with 1 Axes>"
      ]
     },
     "metadata": {
      "needs_background": "light"
     },
     "output_type": "display_data"
    }
   ],
   "source": [
    "plt.bar(currentMVPNames, RFCurrentMVPsPrediction, color='lightblue')\n",
    "plt.xticks(rotation=90)\n",
    "plt.suptitle(\"RF Prediction MVP Share\", weight = 'bold')"
   ]
  },
  {
   "cell_type": "markdown",
   "id": "30819fb2-b34c-4e93-836d-1b8da13ea73a",
   "metadata": {},
   "source": [
    "### XG Boost Regressor"
   ]
  },
  {
   "cell_type": "code",
   "execution_count": 22,
   "id": "74894c4c-1831-44df-8217-6d60d79eb1b0",
   "metadata": {},
   "outputs": [],
   "source": [
    "XGBR = XGBRegressor(random_state = 100)"
   ]
  },
  {
   "cell_type": "code",
   "execution_count": 23,
   "id": "de374994-1b32-428d-aa35-0a1d17c0bf7b",
   "metadata": {},
   "outputs": [
    {
     "data": {
      "text/plain": [
       "XGBRegressor(base_score=0.5, booster='gbtree', colsample_bylevel=1,\n",
       "             colsample_bynode=1, colsample_bytree=1, enable_categorical=False,\n",
       "             gamma=0, gpu_id=-1, importance_type=None,\n",
       "             interaction_constraints='', learning_rate=0.300000012,\n",
       "             max_delta_step=0, max_depth=6, min_child_weight=1, missing=nan,\n",
       "             monotone_constraints='()', n_estimators=100, n_jobs=8,\n",
       "             num_parallel_tree=1, predictor='auto', random_state=100,\n",
       "             reg_alpha=0, reg_lambda=1, scale_pos_weight=1, subsample=1,\n",
       "             tree_method='exact', validate_parameters=1, verbosity=None)"
      ]
     },
     "execution_count": 23,
     "metadata": {},
     "output_type": "execute_result"
    }
   ],
   "source": [
    "XGBR.fit(Xtrain, Ytrain.values.ravel())"
   ]
  },
  {
   "cell_type": "code",
   "execution_count": 24,
   "id": "4f938757-ee4e-49a4-a237-9c16e8a1a11d",
   "metadata": {},
   "outputs": [
    {
     "name": "stdout",
     "output_type": "stream",
     "text": [
      "Nikola Jokić 0.32753750681877136\n",
      "Giannis Antetokounmpo 0.2741043269634247\n",
      "Joel Embiid 0.2190142571926117\n",
      "Chris Paul 0.16320818662643433\n",
      "Rudy Gobert 0.06966126710176468\n",
      "Stephen Curry 0.15245117247104645\n",
      "Luka Dončić 0.0773693397641182\n",
      "Ja Morant 0.23897196352481842\n",
      "DeMar DeRozan 0.17475175857543945\n",
      "Devin Booker 0.04319985210895538\n"
     ]
    }
   ],
   "source": [
    "XGBRCurrentMVPsPrediction = XGBR.predict(currentMVPs).tolist()\n",
    "\n",
    "for (i, j) in zip(currentMVPNames, XGBRCurrentMVPsPrediction):\n",
    "    print(i, j)"
   ]
  },
  {
   "cell_type": "code",
   "execution_count": 25,
   "id": "99cd8972-a4a5-47cb-b82d-2e65f127ec14",
   "metadata": {},
   "outputs": [
    {
     "data": {
      "text/plain": [
       "Text(0.5, 0.98, 'XG Boost Regressor Prediction MVP Share')"
      ]
     },
     "execution_count": 25,
     "metadata": {},
     "output_type": "execute_result"
    },
    {
     "data": {
      "image/png": "[encoded data removed]",
      "text/plain": [
       "<Figure size 432x288 with 1 Axes>"
      ]
     },
     "metadata": {
      "needs_background": "light"
     },
     "output_type": "display_data"
    }
   ],
   "source": [
    "plt.bar(currentMVPNames, XGBRCurrentMVPsPrediction, color='lightblue')\n",
    "plt.xticks(rotation=90)\n",
    "plt.suptitle(\"XG Boost Regressor Prediction MVP Share\", weight = 'bold')"
   ]
  },
  {
   "cell_type": "markdown",
   "id": "c4529480-cb66-4e7c-8af3-0243ad784533",
   "metadata": {},
   "source": [
    "### Mean"
   ]
  },
  {
   "cell_type": "code",
   "execution_count": 26,
   "id": "99d21f6a-0022-40c9-9c85-d3a80eb35477",
   "metadata": {},
   "outputs": [
    {
     "name": "stdout",
     "output_type": "stream",
     "text": [
      "Nikola Jokić 0.33255947845792627\n",
      "Giannis Antetokounmpo 0.2584509373750282\n",
      "Joel Embiid 0.22429638107161062\n",
      "Chris Paul 0.22841257088841704\n",
      "Rudy Gobert 0.11243327478702118\n",
      "Stephen Curry 0.22793374989723383\n",
      "Luka Dončić 0.1185517224329887\n",
      "Ja Morant 0.1981216094774362\n",
      "DeMar DeRozan 0.16445098104294242\n",
      "Devin Booker 0.18418563048176465\n"
     ]
    }
   ],
   "source": [
    "mean = []\n",
    "\n",
    "for (i, j, k, l) in zip(KNNCurrentMVPsPrediction, MLPCurrentMVPsPrediction, RFCurrentMVPsPrediction, XGBRCurrentMVPsPrediction):\n",
    "    mean.append((i + j + k + l) / 4)\n",
    "    \n",
    "for (i, j) in zip(currentMVPNames, mean):\n",
    "    print(i, j)"
   ]
  },
  {
   "cell_type": "code",
   "execution_count": 27,
   "id": "d3a3abcc-6d1f-4256-b284-036e683c417a",
   "metadata": {},
   "outputs": [
    {
     "data": {
      "text/plain": [
       "Text(0.5, 0.98, 'Mean Prediction MVP Share')"
      ]
     },
     "execution_count": 27,
     "metadata": {},
     "output_type": "execute_result"
    },
    {
     "data": {
      "image/png": "[encoded data removed]",
      "text/plain": [
       "<Figure size 432x288 with 1 Axes>"
      ]
     },
     "metadata": {
      "needs_background": "light"
     },
     "output_type": "display_data"
    }
   ],
   "source": [
    "plt.bar(currentMVPNames, mean, color='lightblue')\n",
    "plt.xticks(rotation=90)\n",
    "plt.suptitle(\"Mean Prediction MVP Share\", weight = 'bold')"
   ]
  },
  {
   "cell_type": "code",
   "execution_count": null,
   "id": "3430c8a8-c397-42b1-ab2a-8dbeed78f256",
   "metadata": {},
   "outputs": [],
   "source": []
  }
 ],
 "metadata": {
  "kernelspec": {
   "display_name": "Python 3",
   "language": "python",
   "name": "python3"
  },
  "language_info": {
   "codemirror_mode": {
    "name": "ipython",
    "version": 3
   },
   "file_extension": ".py",
   "mimetype": "text/x-python",
   "name": "python",
   "nbconvert_exporter": "python",
   "pygments_lexer": "ipython3",
   "version": "3.8.8"
  }
 },
 "nbformat": 4,
 "nbformat_minor": 5
}
